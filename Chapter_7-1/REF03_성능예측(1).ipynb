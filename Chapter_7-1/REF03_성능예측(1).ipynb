{
 "cells": [
  {
   "cell_type": "markdown",
   "metadata": {
    "id": "7dkEWjqG7JCw"
   },
   "source": [
    "<center><img src='https://raw.githubusercontent.com/Jangrae/img/master/ml_python.png' width=600/></center>"
   ]
  },
  {
   "cell_type": "markdown",
   "metadata": {
    "id": "JkmWP4w97lOA"
   },
   "source": [
    "# 다룰 내용\n",
    "\n",
    "- 모델 성능 평가 시 어느 정도의 성능이 나올 지 객관적으로 예측할 수 있을까요?"
   ]
  },
  {
   "cell_type": "code",
   "execution_count": 1,
   "metadata": {
    "executionInfo": {
     "elapsed": 376,
     "status": "ok",
     "timestamp": 1645274854988,
     "user": {
      "displayName": "Jangrae Lee",
      "photoUrl": "https://lh3.googleusercontent.com/a-/AOh14Gh1Pd8OuWJU2cv7uTt-fURrgvty7atx_Wtarmx0-A=s64",
      "userId": "08475661575434032088"
     },
     "user_tz": -540
    },
    "id": "BzJjQX4lNdJr",
    "scrolled": true
   },
   "outputs": [],
   "source": [
    "# 라이브러리 불러오기\n",
    "import numpy as np\n",
    "import pandas as pd\n",
    "import matplotlib.pyplot as plt\n",
    "import seaborn as sns\n",
    "import warnings\n",
    "\n",
    "warnings.filterwarnings(action='ignore')\n",
    "%config InlineBackend.figure_format='retina'"
   ]
  },
  {
   "cell_type": "markdown",
   "metadata": {},
   "source": [
    "## 1.데이터 준비"
   ]
  },
  {
   "cell_type": "code",
   "execution_count": 4,
   "metadata": {
    "id": "1yPDiJ4NNdJs"
   },
   "outputs": [
    {
     "ename": "NameError",
     "evalue": "name 'pd' is not defined",
     "output_type": "error",
     "traceback": [
      "\u001b[1;31m---------------------------------------------------------------------------\u001b[0m",
      "\u001b[1;31mNameError\u001b[0m                                 Traceback (most recent call last)",
      "Cell \u001b[1;32mIn[4], line 3\u001b[0m\n\u001b[0;32m      1\u001b[0m \u001b[39m# 데이터 읽어오기\u001b[39;00m\n\u001b[0;32m      2\u001b[0m path \u001b[39m=\u001b[39m \u001b[39m'\u001b[39m\u001b[39mhttps://raw.githubusercontent.com/jangrae/csv/master/admission_simple.csv\u001b[39m\u001b[39m'\u001b[39m\n\u001b[1;32m----> 3\u001b[0m data \u001b[39m=\u001b[39m pd\u001b[39m.\u001b[39mread_csv(path)\n\u001b[0;32m      5\u001b[0m \u001b[39m# 확인\u001b[39;00m\n\u001b[0;32m      6\u001b[0m data\u001b[39m.\u001b[39mhead()\n",
      "\u001b[1;31mNameError\u001b[0m: name 'pd' is not defined"
     ]
    }
   ],
   "source": [
    "# 데이터 읽어오기\n",
    "path = 'https://raw.githubusercontent.com/jangrae/csv/master/admission_simple.csv'\n",
    "data = pd.read_csv(path)\n",
    "\n",
    "# 확인\n",
    "data.head()"
   ]
  },
  {
   "cell_type": "code",
   "execution_count": 5,
   "metadata": {
    "executionInfo": {
     "elapsed": 3,
     "status": "ok",
     "timestamp": 1645274584228,
     "user": {
      "displayName": "Jangrae Lee",
      "photoUrl": "https://lh3.googleusercontent.com/a-/AOh14Gh1Pd8OuWJU2cv7uTt-fURrgvty7atx_Wtarmx0-A=s64",
      "userId": "08475661575434032088"
     },
     "user_tz": -540
    },
    "id": "Ops0CDL2dEDe"
   },
   "outputs": [
    {
     "ename": "ImportError",
     "evalue": "\n\nIMPORTANT: PLEASE READ THIS FOR ADVICE ON HOW TO SOLVE THIS ISSUE!\n\nImporting the numpy C-extensions failed. This error can happen for\nmany reasons, often due to issues with your setup or how NumPy was\ninstalled.\n\nWe have compiled some common reasons and troubleshooting tips at:\n\n    https://numpy.org/devdocs/user/troubleshooting-importerror.html\n\nPlease note and check the following:\n\n  * The Python version is: Python3.9 from \"c:\\Users\\User\\anaconda3\\python.exe\"\n  * The NumPy version is: \"1.21.5\"\n\nand make sure that they are the versions you expect.\nPlease carefully study the documentation linked above for further help.\n\nOriginal error was: DLL load failed while importing _multiarray_umath: 지정된 모듈을 찾을 수 없습니다.\n",
     "output_type": "error",
     "traceback": [
      "\u001b[1;31m---------------------------------------------------------------------------\u001b[0m",
      "\u001b[1;31mImportError\u001b[0m                               Traceback (most recent call last)",
      "File \u001b[1;32mc:\\Users\\User\\anaconda3\\lib\\site-packages\\numpy\\core\\__init__.py:22\u001b[0m\n\u001b[0;32m     21\u001b[0m \u001b[39mtry\u001b[39;00m:\n\u001b[1;32m---> 22\u001b[0m     \u001b[39mfrom\u001b[39;00m \u001b[39m.\u001b[39;00m \u001b[39mimport\u001b[39;00m multiarray\n\u001b[0;32m     23\u001b[0m \u001b[39mexcept\u001b[39;00m \u001b[39mImportError\u001b[39;00m \u001b[39mas\u001b[39;00m exc:\n",
      "File \u001b[1;32mc:\\Users\\User\\anaconda3\\lib\\site-packages\\numpy\\core\\multiarray.py:12\u001b[0m\n\u001b[0;32m     10\u001b[0m \u001b[39mimport\u001b[39;00m \u001b[39mwarnings\u001b[39;00m\n\u001b[1;32m---> 12\u001b[0m \u001b[39mfrom\u001b[39;00m \u001b[39m.\u001b[39;00m \u001b[39mimport\u001b[39;00m overrides\n\u001b[0;32m     13\u001b[0m \u001b[39mfrom\u001b[39;00m \u001b[39m.\u001b[39;00m \u001b[39mimport\u001b[39;00m _multiarray_umath\n",
      "File \u001b[1;32mc:\\Users\\User\\anaconda3\\lib\\site-packages\\numpy\\core\\overrides.py:7\u001b[0m\n\u001b[0;32m      5\u001b[0m \u001b[39mimport\u001b[39;00m \u001b[39mtextwrap\u001b[39;00m\n\u001b[1;32m----> 7\u001b[0m \u001b[39mfrom\u001b[39;00m \u001b[39mnumpy\u001b[39;00m\u001b[39m.\u001b[39;00m\u001b[39mcore\u001b[39;00m\u001b[39m.\u001b[39;00m\u001b[39m_multiarray_umath\u001b[39;00m \u001b[39mimport\u001b[39;00m (\n\u001b[0;32m      8\u001b[0m     add_docstring, implement_array_function, _get_implementing_args)\n\u001b[0;32m      9\u001b[0m \u001b[39mfrom\u001b[39;00m \u001b[39mnumpy\u001b[39;00m\u001b[39m.\u001b[39;00m\u001b[39mcompat\u001b[39;00m\u001b[39m.\u001b[39;00m\u001b[39m_inspect\u001b[39;00m \u001b[39mimport\u001b[39;00m getargspec\n",
      "\u001b[1;31mImportError\u001b[0m: DLL load failed while importing _multiarray_umath: 지정된 모듈을 찾을 수 없습니다.",
      "\nDuring handling of the above exception, another exception occurred:\n",
      "\u001b[1;31mImportError\u001b[0m                               Traceback (most recent call last)",
      "Cell \u001b[1;32mIn[5], line 2\u001b[0m\n\u001b[0;32m      1\u001b[0m \u001b[39m# 라이브러리 불러오기\u001b[39;00m\n\u001b[1;32m----> 2\u001b[0m \u001b[39mfrom\u001b[39;00m \u001b[39msklearn\u001b[39;00m\u001b[39m.\u001b[39;00m\u001b[39mmodel_selection\u001b[39;00m \u001b[39mimport\u001b[39;00m train_test_split\n\u001b[0;32m      4\u001b[0m \u001b[39m# Target 확인\u001b[39;00m\n\u001b[0;32m      5\u001b[0m target \u001b[39m=\u001b[39m \u001b[39m'\u001b[39m\u001b[39mADMIT\u001b[39m\u001b[39m'\u001b[39m\n",
      "File \u001b[1;32mc:\\Users\\User\\anaconda3\\lib\\site-packages\\sklearn\\__init__.py:82\u001b[0m\n\u001b[0;32m     80\u001b[0m \u001b[39mfrom\u001b[39;00m \u001b[39m.\u001b[39;00m \u001b[39mimport\u001b[39;00m _distributor_init  \u001b[39m# noqa: F401\u001b[39;00m\n\u001b[0;32m     81\u001b[0m \u001b[39mfrom\u001b[39;00m \u001b[39m.\u001b[39;00m \u001b[39mimport\u001b[39;00m __check_build  \u001b[39m# noqa: F401\u001b[39;00m\n\u001b[1;32m---> 82\u001b[0m \u001b[39mfrom\u001b[39;00m \u001b[39m.\u001b[39;00m\u001b[39mbase\u001b[39;00m \u001b[39mimport\u001b[39;00m clone\n\u001b[0;32m     83\u001b[0m \u001b[39mfrom\u001b[39;00m \u001b[39m.\u001b[39;00m\u001b[39mutils\u001b[39;00m\u001b[39m.\u001b[39;00m\u001b[39m_show_versions\u001b[39;00m \u001b[39mimport\u001b[39;00m show_versions\n\u001b[0;32m     85\u001b[0m __all__ \u001b[39m=\u001b[39m [\n\u001b[0;32m     86\u001b[0m     \u001b[39m\"\u001b[39m\u001b[39mcalibration\u001b[39m\u001b[39m\"\u001b[39m,\n\u001b[0;32m     87\u001b[0m     \u001b[39m\"\u001b[39m\u001b[39mcluster\u001b[39m\u001b[39m\"\u001b[39m,\n\u001b[1;32m   (...)\u001b[0m\n\u001b[0;32m    128\u001b[0m     \u001b[39m\"\u001b[39m\u001b[39mshow_versions\u001b[39m\u001b[39m\"\u001b[39m,\n\u001b[0;32m    129\u001b[0m ]\n",
      "File \u001b[1;32mc:\\Users\\User\\anaconda3\\lib\\site-packages\\sklearn\\base.py:13\u001b[0m\n\u001b[0;32m     10\u001b[0m \u001b[39mimport\u001b[39;00m \u001b[39minspect\u001b[39;00m\n\u001b[0;32m     11\u001b[0m \u001b[39mimport\u001b[39;00m \u001b[39mre\u001b[39;00m\n\u001b[1;32m---> 13\u001b[0m \u001b[39mimport\u001b[39;00m \u001b[39mnumpy\u001b[39;00m \u001b[39mas\u001b[39;00m \u001b[39mnp\u001b[39;00m\n\u001b[0;32m     15\u001b[0m \u001b[39mfrom\u001b[39;00m \u001b[39m.\u001b[39;00m \u001b[39mimport\u001b[39;00m __version__\n\u001b[0;32m     16\u001b[0m \u001b[39mfrom\u001b[39;00m \u001b[39m.\u001b[39;00m\u001b[39m_config\u001b[39;00m \u001b[39mimport\u001b[39;00m get_config\n",
      "File \u001b[1;32mc:\\Users\\User\\anaconda3\\lib\\site-packages\\numpy\\__init__.py:150\u001b[0m\n\u001b[0;32m    147\u001b[0m \u001b[39m# Allow distributors to run custom init code\u001b[39;00m\n\u001b[0;32m    148\u001b[0m \u001b[39mfrom\u001b[39;00m \u001b[39m.\u001b[39;00m \u001b[39mimport\u001b[39;00m _distributor_init\n\u001b[1;32m--> 150\u001b[0m \u001b[39mfrom\u001b[39;00m \u001b[39m.\u001b[39;00m \u001b[39mimport\u001b[39;00m core\n\u001b[0;32m    151\u001b[0m \u001b[39mfrom\u001b[39;00m \u001b[39m.\u001b[39;00m\u001b[39mcore\u001b[39;00m \u001b[39mimport\u001b[39;00m \u001b[39m*\u001b[39m\n\u001b[0;32m    152\u001b[0m \u001b[39mfrom\u001b[39;00m \u001b[39m.\u001b[39;00m \u001b[39mimport\u001b[39;00m compat\n",
      "File \u001b[1;32mc:\\Users\\User\\anaconda3\\lib\\site-packages\\numpy\\core\\__init__.py:48\u001b[0m\n\u001b[0;32m     24\u001b[0m     \u001b[39mimport\u001b[39;00m \u001b[39msys\u001b[39;00m\n\u001b[0;32m     25\u001b[0m     msg \u001b[39m=\u001b[39m \u001b[39m\"\"\"\u001b[39m\n\u001b[0;32m     26\u001b[0m \n\u001b[0;32m     27\u001b[0m \u001b[39mIMPORTANT: PLEASE READ THIS FOR ADVICE ON HOW TO SOLVE THIS ISSUE!\u001b[39m\n\u001b[1;32m   (...)\u001b[0m\n\u001b[0;32m     46\u001b[0m \u001b[39m\"\"\"\u001b[39m \u001b[39m%\u001b[39m (sys\u001b[39m.\u001b[39mversion_info[\u001b[39m0\u001b[39m], sys\u001b[39m.\u001b[39mversion_info[\u001b[39m1\u001b[39m], sys\u001b[39m.\u001b[39mexecutable,\n\u001b[0;32m     47\u001b[0m         __version__, exc)\n\u001b[1;32m---> 48\u001b[0m     \u001b[39mraise\u001b[39;00m \u001b[39mImportError\u001b[39;00m(msg)\n\u001b[0;32m     49\u001b[0m \u001b[39mfinally\u001b[39;00m:\n\u001b[0;32m     50\u001b[0m     \u001b[39mfor\u001b[39;00m envkey \u001b[39min\u001b[39;00m env_added:\n",
      "\u001b[1;31mImportError\u001b[0m: \n\nIMPORTANT: PLEASE READ THIS FOR ADVICE ON HOW TO SOLVE THIS ISSUE!\n\nImporting the numpy C-extensions failed. This error can happen for\nmany reasons, often due to issues with your setup or how NumPy was\ninstalled.\n\nWe have compiled some common reasons and troubleshooting tips at:\n\n    https://numpy.org/devdocs/user/troubleshooting-importerror.html\n\nPlease note and check the following:\n\n  * The Python version is: Python3.9 from \"c:\\Users\\User\\anaconda3\\python.exe\"\n  * The NumPy version is: \"1.21.5\"\n\nand make sure that they are the versions you expect.\nPlease carefully study the documentation linked above for further help.\n\nOriginal error was: DLL load failed while importing _multiarray_umath: 지정된 모듈을 찾을 수 없습니다.\n"
     ]
    }
   ],
   "source": [
    "# 라이브러리 불러오기\n",
    "from sklearn.model_selection import train_test_split\n",
    "\n",
    "# Target 확인\n",
    "target = 'ADMIT'\n",
    "\n",
    "# 데이터 분리\n",
    "x = data.drop(target, axis=1)\n",
    "y = data.loc[:, target]\n",
    "\n",
    "# 학습용, 평가용 데이터 7:3으로 분리\n",
    "x_train, x_test, y_train, y_test = train_test_split(x, y, test_size=0.3, random_state=1)"
   ]
  },
  {
   "cell_type": "markdown",
   "metadata": {},
   "source": [
    "## 2.생각해 볼 문제\n",
    "\n",
    "- 다음과 같이 모델을 만들어 학습을 완료 했습니다.\n",
    "- 그럼 과연 평가 데이터에 대한 성능이 얼마나 나올까요?"
   ]
  },
  {
   "cell_type": "code",
   "execution_count": null,
   "metadata": {},
   "outputs": [],
   "source": [
    "# 불러오기\n",
    "from sklearn.tree import DecisionTreeClassifier\n",
    "from sklearn.metrics import accuracy_score\n",
    "\n",
    "# 선언하기, 학습하가\n",
    "model = DecisionTreeClassifier(random_state=1)\n",
    "model.fit(x_train, y_train)"
   ]
  },
  {
   "cell_type": "markdown",
   "metadata": {},
   "source": [
    "- 평가를 해 보기 전에 성능을 예측할 수 없습니다.\n",
    "- 예측도 못하고 평가를 한다? 뭔가 대책이 필요합니다..."
   ]
  },
  {
   "cell_type": "markdown",
   "metadata": {},
   "source": [
    "## 3.이 방법은 어떨지...\n",
    "\n",
    "- 학습 데이터를 조금만 떼 내어 검증용 데이터로 사용해 보면 어떨까요?"
   ]
  },
  {
   "cell_type": "code",
   "execution_count": null,
   "metadata": {},
   "outputs": [],
   "source": [
    "# 학습용, 검증용 데이터 7:3으로 분리\n",
    "x_val_train, x_val_test, y_val_train, y_val_test = train_test_split(x_train, y_train, test_size=0.1, random_state=1)"
   ]
  },
  {
   "cell_type": "code",
   "execution_count": null,
   "metadata": {},
   "outputs": [],
   "source": [
    "# 선언하기, 학습하가\n",
    "model = DecisionTreeClassifier(random_state=1)\n",
    "model.fit(x_val_train, y_val_train)\n",
    "\n",
    "# 예측하기\n",
    "y_val_pred = model.predict(x_val_test)\n",
    "\n",
    "# 평가하기\n",
    "print('예상되는 Accuracy:', accuracy_score(y_val_test, y_val_pred))"
   ]
  },
  {
   "cell_type": "markdown",
   "metadata": {},
   "source": [
    "- 0.83 정도의 정확도가 나올 것으로 예상됩니다.\n",
    "- 하지만 이렇게 딱 한 번 검증해 보고 0.83 정도의 정확도를 예상할 수 있을까요?"
   ]
  },
  {
   "cell_type": "markdown",
   "metadata": {},
   "source": [
    "## 4.무작위 추출 해 여러 번 검증!!!\n",
    "\n",
    "- 랜덤하게 학습용, 검증용 데이터를 분리해 여러 번 테스트를 해보면 어떨까요?"
   ]
  },
  {
   "cell_type": "code",
   "execution_count": null,
   "metadata": {},
   "outputs": [],
   "source": [
    "# 선언하기\n",
    "model = DecisionTreeClassifier(random_state=1)\n",
    "\n",
    "# 반복 검증\n",
    "result = []\n",
    "for n in range(10):\n",
    "    x_val_train, x_val_test, y_val_train, y_val_test = train_test_split(x_train, y_train, test_size=0.1) \n",
    "    model.fit(x_val_train, y_val_train)\n",
    "    y_val_pred = model.predict(x_val_test)\n",
    "    result.append(accuracy_score(y_val_test, y_val_pred))\n",
    "\n",
    "# 확인\n",
    "print('결과:', np.round(result, 2))\n",
    "print('평균:', np.mean(result))\n",
    "print('표준편차:', np.std(result))"
   ]
  },
  {
   "cell_type": "code",
   "execution_count": null,
   "metadata": {},
   "outputs": [],
   "source": [
    "# 성능 정보 시각화\n",
    "plt.figure(figsize=(8, 5))\n",
    "plt.plot(result, marker='o')\n",
    "plt.axhline(np.mean(result), color='r', linestyle='--')\n",
    "plt.ylim(0, 1)\n",
    "plt.show()"
   ]
  },
  {
   "cell_type": "markdown",
   "metadata": {},
   "source": [
    "- 여러 번 수행해 얻은 정확도 평균값을 제시하니 왠지 의미가 있어 보입니다.\n",
    "- 이제 실제 평가에서 어느 정도의 정확도가 예상된다고 이야기 할 수 있지 않을까요?\n",
    "- 하지만 이렇게 성능을 예측한다는 것은 **너무 너무 번거로운 작업입니다.**\n",
    "- 또한 랜덤하게 선택했다는 것이 뭔가 **계획성이 없어 보입니다.**"
   ]
  },
  {
   "cell_type": "markdown",
   "metadata": {},
   "source": [
    "## 5.성능 확인\n",
    "\n",
    "\n",
    "- 어찌 되었건 예정대로 학습하고 예측하고 평가해 봅니다."
   ]
  },
  {
   "cell_type": "code",
   "execution_count": null,
   "metadata": {},
   "outputs": [],
   "source": [
    "# 학습하기\n",
    "model.fit(x_train, y_train)\n",
    "\n",
    "# 예측하기\n",
    "y_pred = model.predict(x_test)\n",
    "\n",
    "# 평가하기\n",
    "print('Accuracy:', accuracy_score(y_test, y_pred))"
   ]
  },
  {
   "cell_type": "markdown",
   "metadata": {},
   "source": [
    "- 실제 평가에서 예상했던 성능이 나오지 않을 가능성은 충분히 있습니다.\n",
    "- 성능이 더 좋을 수도 있고 나쁠 수도 있습니다.\n",
    "- 우리는 그저 주어진 학습용 데이터로 최선을 다해 성능을 예측했던 것입니다."
   ]
  }
 ],
 "metadata": {
  "colab": {
   "authorship_tag": "ABX9TyO1DqVVRGHm0mxO3MG06QJL",
   "collapsed_sections": [],
   "name": "RX_01_LearningCurve.ipynb",
   "provenance": []
  },
  "kernelspec": {
   "display_name": "Python 3",
   "language": "python",
   "name": "python3"
  },
  "language_info": {
   "codemirror_mode": {
    "name": "ipython",
    "version": 3
   },
   "file_extension": ".py",
   "mimetype": "text/x-python",
   "name": "python",
   "nbconvert_exporter": "python",
   "pygments_lexer": "ipython3",
   "version": "3.10.9"
  },
  "vscode": {
   "interpreter": {
    "hash": "afb734500600fd355917ca529030176ea0ca205570884b88f2f6f7d791fd3fbe"
   }
  }
 },
 "nbformat": 4,
 "nbformat_minor": 4
}
