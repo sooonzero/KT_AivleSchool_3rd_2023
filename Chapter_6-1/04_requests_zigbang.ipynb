{
 "cells": [
  {
   "cell_type": "code",
   "execution_count": null,
   "id": "e0363989",
   "metadata": {},
   "outputs": [],
   "source": [
    "#SUMMARY\n",
    "\n",
    "#web: server-client: url\n",
    "#동적 페이지: URL 변화 없이 페이지의 데이터 수정: json(str) > response.json() > DataFrame\n",
    "#정적 페이지: URL 변화 있이 페이지의 데이터 수정: html(str) > BeautifulSoup > css-selector > DataFrame\n",
    "#selenium: 웹브라우져를 python 코드로 컨트롤해서 데이터 수집\n",
    "#requests(동적페이지,API)>requests(정적페이지) > selenium\n",
    "\n",
    "#웹크롤링 절차\n",
    "#1. 웹서비스분석(개발자도구): URL\n",
    "#2. request(URL) > response(data): data(json(str),html(str))\n",
    "#3. data(json(str), html(str)) > 파씽: response.json(), BeautifulSoup(css-selector) > DataFrame\n",
    "\n",
    "#request 할때 401, 403, 500 등등의 에러가 발생하는 경우 > headers 수정해서 데이터 요청(user-agent, refere)\n",
    "#API 이용: request token 수집 후 크롤링"
   ]
  },
  {
   "attachments": {},
   "cell_type": "markdown",
   "id": "democratic-utility",
   "metadata": {},
   "source": [
    "### Zigbang 원룸 매물 데이터 수집\n",
    "- 동 이름(입력) > 매물 데이터(출력)"
   ]
  },
  {
   "cell_type": "code",
   "execution_count": 1,
   "id": "9affefe3",
   "metadata": {},
   "outputs": [],
   "source": [
    "import pandas as pd\n",
    "import requests"
   ]
  },
  {
   "cell_type": "markdown",
   "id": "whole-answer",
   "metadata": {},
   "source": [
    "#### Process\n",
    "    - 동이름으로 위도 경도 구하기\n",
    "    - 위도 경도로 geohash 알아내기\n",
    "    - geohash로 매물 아이디 가져오기\n",
    "    - 매물 아이디로 매물 정보 가져오기"
   ]
  },
  {
   "cell_type": "markdown",
   "id": "b98f0c6c",
   "metadata": {},
   "source": [
    "#### 1. 동이름으로 위도 경도 구하기"
   ]
  },
  {
   "attachments": {},
   "cell_type": "markdown",
   "id": "3735d90a",
   "metadata": {},
   "source": [
    "URL Decoder / Encoder : https://meyerweb.com/eric/tools/dencoder/"
   ]
  },
  {
   "cell_type": "code",
   "execution_count": 4,
   "id": "4e8d14a3",
   "metadata": {},
   "outputs": [],
   "source": [
    "#1. URL\n",
    "address = '개포동' \n",
    "url = f'https://apis.zigbang.com/v2/search?leaseYn=N&q={address}&serviceType=원룸'\n",
    "\n",
    "#2. request > response : json(str)\n",
    "response = requests.get(url)\n",
    "\n",
    "#3. json(str) > lat, lng\n",
    "data = response.json()['items'][0] \n",
    "lat, lng = data['lat'], data['lng'] "
   ]
  },
  {
   "cell_type": "code",
   "execution_count": 17,
   "id": "61da719c",
   "metadata": {},
   "outputs": [
    {
     "data": {
      "text/plain": [
       "'{\"success\":true,\"code\":\"200\",\"items\":[{\"id\":3735,\"type\":\"address\",\"name\":\"개포동\",\"hint\":\"\",\"description\":\"서울시 강남구 개포동\",\"lat\":37.48192596435547,\"lng\":127.05744171142578,\"zoom\":5,\"polygon\":[],\"_score\":null,\"_source\":{\"name_length\":3,\"local1\":\"서울시\",\"local2\":\"강남구\",\"local3\":\"개포동\",\"web_level\":15,\"web_lat\":37.48192596435547,\"web_lng\":127.05744171142578,\"app_level\":15,\"app_lat\":37.48192596435547,\"app_lng\":127.05744171142578,\"법정동코드\":\"1168010300\"},\"zoom_level\":{\"google\":15,\"daum\":4},\"zoom_level_v2\":{\"app\":5,\"web\":4}},{\"id\":129,\"type\":\"subway\",\"name\":\"개포동역\",\"hint\":\"수인분당선\",\"description\":\"서울특별시 강남구 개포동\",\"lat\":37.4891159,\"lng\":127.065987,\"zoom\":3,\"polygon\":[],\"_score\":null,\"_source\":{\"name_length\":4,\"local1\":\"서울특별시\",\"local2\":\"강남구\",\"local3\":\"개포동\",\"suggestions\":[],\"suggestions_insensitive\":[],\"distance\":1000},\"zoom_level\":{\"google\":14,\"daum\":4},\"zoom_level_v2\":{\"app\":6,\"web\":4}}],\"next\":null,\"limit\":0}'"
      ]
     },
     "execution_count": 17,
     "metadata": {},
     "output_type": "execute_result"
    }
   ],
   "source": [
    "response.text"
   ]
  },
  {
   "attachments": {},
   "cell_type": "markdown",
   "id": "8dfada31",
   "metadata": {},
   "source": [
    "#### 2. 위도 경도로 geohash 알아내기\n",
    "- geohash2: pip install geohash2"
   ]
  },
  {
   "cell_type": "code",
   "execution_count": 5,
   "id": "1d270ab4",
   "metadata": {},
   "outputs": [],
   "source": [
    "#  !pip install geohash2"
   ]
  },
  {
   "cell_type": "code",
   "execution_count": 6,
   "id": "edc137fc",
   "metadata": {},
   "outputs": [],
   "source": [
    "import geohash2"
   ]
  },
  {
   "cell_type": "code",
   "execution_count": 7,
   "id": "fb55b62c",
   "metadata": {},
   "outputs": [
    {
     "data": {
      "text/plain": [
       "'wydm5'"
      ]
     },
     "execution_count": 7,
     "metadata": {},
     "output_type": "execute_result"
    }
   ],
   "source": [
    "#precision: 클수록 영역이 작아짐(숫자가 작을수록 큰 영역을 의미함)\n",
    "geohash = geohash2.encode(lat, lng, precision=5)\n",
    "geohash"
   ]
  },
  {
   "cell_type": "markdown",
   "id": "13e8b3f9",
   "metadata": {},
   "source": [
    "#### 3. geohash로 매물 아이디 가져오기"
   ]
  },
  {
   "cell_type": "code",
   "execution_count": 18,
   "id": "2ceb8ea4",
   "metadata": {},
   "outputs": [
    {
     "data": {
      "text/plain": [
       "<Response [200]>"
      ]
     },
     "execution_count": 18,
     "metadata": {},
     "output_type": "execute_result"
    }
   ],
   "source": [
    "# 한글 들어간건 디코드 해서 카피 or 우클릭 copy value\n",
    "url = f'https://apis.zigbang.com/v2/items?deposit_gteq=0&domain=zigbang&geohash={geohash}&needHasNoFiltered=true&rent_gteq=0&sales_type_in=전세|월세&service_type_eq=원룸'\n",
    "response = requests.get(url)\n",
    "response"
   ]
  },
  {
   "cell_type": "code",
   "execution_count": 19,
   "id": "1d9e3bbb",
   "metadata": {},
   "outputs": [
    {
     "data": {
      "text/plain": [
       "'{\"clusters\":[],\"items\":[{\"lat\":37.44458690681313,\"lng\":127.05876109902758,\"item_id\":35600180},{\"lat\":37.46292198091118,\"lng\":127.04997457514203,\"item_id\":35695563},{\"lat\":37.4691833864648,\"lng\":127.04620331368294,\"item_id\":35611559},{\"lat\":37.469155381883034,\"lng\":127.04623920493496,\"item_id\":35679182},{\"lat\":37.47016650899742,\"lng\":127.04568609315243,\"item_id\":35335715},{\"lat\":37.47030495684337,\"lng\":127.04659655066689,\"item_id\":35608899},{\"lat\":37.46988878789614,\"lng\":127.04690145985205,\"item_id\":35529990},{\"lat\":37.46992123799065,\"lng\":127.0464396451733,\"item_id\":35632836},{\"lat\":37.4699697660604,\"lng\":127.04789029554793,\"item_id\":35349519},{\"lat\":37.47048068469541,\"lng\":127.04786159737343,\"item_id\":35663883},{\"lat\":37.47009586939562,\"lng\":127.04742862552517,\"item_id\":35526746},{\"lat\":37.47089221498099,\"lng\":127.04886053930146,\"item_id\":35703075},{\"lat\":37.470612872814684,\"lng\":127.04795519482731,\"item_id\":35699198},{\"lat\":37.47069508871911,\"lng\":127.047011670976,\"item_id\":35366884},{\"lat\":37.470937813085975,\"lng\":127.04721413841877,\"item_id\":35299082},{\"lat\":37.47145734798121,\"lng\":127.04568706161307,\"item_id\":35495590},{\"lat\":37.47153220684815,\"lng\":127.0477007304095,\"item_id\":35631394},{\"lat\":37.471586246423364,\"lng\":127.04786283653301,\"item_id\":35529886},{\"lat\":37.471496142397044,\"lng\":127.04934871697921,\"item_id\":35255801},{\"lat\":37.47206392484328,\"lng\":127.04795884875229,\"item_id\":35366502},{\"lat\":37.472058790804326,\"lng\":127.04731770267288,\"item_id\":35685064},{\"lat\":37.47213794039264,\"lng\":127.04918024539417,\"item_id\":35447876},{\"lat\":37.47163638420499,\"lng\":127.04984135888216,\"item_id\":35681989},{\"lat\":37.47213176409101,\"lng\":127.04769123520497,\"item_id\":35429252},{\"lat\":37.472180553540944,\"lng\":127.04864076590258,\"item_id\":35669496},{\"lat\":37.472810308174,\"lng\":127.04789953599374,\"item_id\":35443703},{\"lat\":37.472605708336495,\"lng\":127.04627225621553,\"item_id\":35486475},{\"lat\":37.472706119393024,\"lng\":127.05144471536221,\"item_id\":35549177},{\"lat\":37.47334638614943,\"lng\":127.05151021932323,\"item_id\":35261421},{\"lat\":37.47284083692722,\"lng\":127.0508905086426,\"item_id\":35586882},{\"lat\":37.47345175871678,\"lng\":127.04859016690735,\"item_id\":35613313},{\"lat\":37.47347334411839,\"lng\":127.05113781505977,\"item_id\":35684569},{\"lat\":37.473000431755835,\"lng\":127.05115160075142,\"item_id\":35706574},{\"lat\":37.472984029641395,\"lng\":127.05078949469414,\"item_id\":35411716},{\"lat\":37.47358387539736,\"lng\":127.05151884564961,\"item_id\":35690464},{\"lat\":37.473543954643105,\"lng\":127.05090765852839,\"item_id\":35481465},{\"lat\":37.4735477053101,\"lng\":127.05148691701794,\"item_id\":35541584},{\"lat\":37.473550630112236,\"lng\":127.05090860651534,\"item_id\":35581993},{\"lat\":37.47358309932507,\"lng\":127.05087056525203,\"item_id\":35703056},{\"lat\":37.473197249208496,\"lng\":127.0465692182353,\"item_id\":35363669},{\"lat\":37.47384269349505,\"lng\":127.05084065758508,\"item_id\":35580286},{\"lat\":37.47385800679874,\"lng\":127.05012028656428,\"item_id\":35678874},{\"lat\":37.47392972081162,\"lng\":127.05125197866434,\"item_id\":35331837},{\"lat\":37.473451590112106,\"lng\":127.0459806253931,\"item_id\":35425243},{\"lat\":37.47413675562724,\"lng\":127.05168326947341,\"item_id\":34653089},{\"lat\":37.47362788287113,\"lng\":127.05071699622742,\"item_id\":35385267},{\"lat\":37.47420514215303,\"lng\":127.04735895638913,\"item_id\":35549318},{\"lat\":37.47401752651029,\"lng\":127.04991250086142,\"item_id\":35234836},{\"lat\":37.47431204845852,\"lng\":127.04908356618347,\"item_id\":35214206},{\"lat\":37.474331705304515,\"lng\":127.04910238446456,\"item_id\":35347226},{\"lat\":37.474301032448885,\"lng\":127.04911455113667,\"item_id\":35592108},{\"lat\":37.47480621099892,\"lng\":127.04974486647056,\"item_id\":35599934},{\"lat\":37.47485763008674,\"lng\":127.05163884635567,\"item_id\":35594650},{\"lat\":37.47485740675835,\"lng\":127.05499100479129,\"item_id\":35419649},{\"lat\":37.47486037059172,\"lng\":127.05360801057724,\"item_id\":35570090},{\"lat\":37.47436112644821,\"lng\":127.05552139405727,\"item_id\":35688770},{\"lat\":37.47487154176605,\"lng\":127.04636869516128,\"item_id\":35650007},{\"lat\":37.47443533541089,\"lng\":127.05416978075198,\"item_id\":35544585},{\"lat\":37.47447357641702,\"lng\":127.05193840125995,\"item_id\":35688909},{\"lat\":37.4749922131081,\"lng\":127.0538752981842,\"item_id\":35604071},{\"lat\":37.47457116504259,\"lng\":127.0545022328744,\"item_id\":35487393},{\"lat\":37.47517103384064,\"lng\":127.04757280773923,\"item_id\":35701420},{\"lat\":37.47520769741265,\"lng\":127.05327277409371,\"item_id\":35552809},{\"lat\":37.47519892874075,\"lng\":127.05326751825353,\"item_id\":35671367},{\"lat\":37.47484836330436,\"lng\":127.05419162086154,\"item_id\":35398205},{\"lat\":37.47536763020391,\"lng\":127.04649060799288,\"item_id\":35438635},{\"lat\":37.47486449140292,\"lng\":127.04588333392441,\"item_id\":35674095},{\"lat\":37.47560066228308,\"lng\":127.04858181935923,\"item_id\":35553432},{\"lat\":37.47511889391828,\"lng\":127.04794075026471,\"item_id\":35566714},{\"lat\":37.47508091595605,\"lng\":127.04791899369553,\"item_id\":35566846},{\"lat\":37.47508570339675,\"lng\":127.04791854976011,\"item_id\":35566969},{\"lat\":37.475088066994836,\"lng\":127.04792678960801,\"item_id\":35573035},{\"lat\":37.475084582544035,\"lng\":127.04855369534016,\"item_id\":35573040},{\"lat\":37.475099447154776,\"lng\":127.04858307794197,\"item_id\":35573466},{\"lat\":37.47510171245978,\"lng\":127.0479260654197,\"item_id\":35670766},{\"lat\":37.475916680004914,\"lng\":127.04741953242824,\"item_id\":35576881},{\"lat\":37.475426608293,\"lng\":127.04682110182743,\"item_id\":35575425},{\"lat\":37.47593992470827,\"lng\":127.04680727954144,\"item_id\":35692896},{\"lat\":37.47540667944791,\"lng\":127.04680632595567,\"item_id\":35696768},{\"lat\":37.47556667639827,\"lng\":127.04763105497854,\"item_id\":35505253},{\"lat\":37.476914933666656,\"lng\":127.04803607030262,\"item_id\":35672067},{\"lat\":37.47690309181453,\"lng\":127.05096918556511,\"item_id\":35674112},{\"lat\":37.476776877420996,\"lng\":127.04680463647504,\"item_id\":35326560},{\"lat\":37.4767993872515,\"lng\":127.04680750646354,\"item_id\":35703873},{\"lat\":37.47685657199378,\"lng\":127.04755824837387,\"item_id\":35672516},{\"lat\":37.47767814917948,\"lng\":127.0583430857398,\"item_id\":35673530},{\"lat\":37.477233613379816,\"lng\":127.0505845363959,\"item_id\":35177581},{\"lat\":37.477398490960816,\"lng\":127.05038165375073,\"item_id\":35529807},{\"lat\":37.477399863333424,\"lng\":127.04978781899278,\"item_id\":35677380},{\"lat\":37.47791605625645,\"lng\":127.04605060976375,\"item_id\":35505507},{\"lat\":37.478427164277505,\"lng\":127.04665628323123,\"item_id\":35683792},{\"lat\":37.47844671582942,\"lng\":127.0460460670066,\"item_id\":35689007},{\"lat\":37.47798582816739,\"lng\":127.04632662022732,\"item_id\":35614145},{\"lat\":37.47848889216044,\"lng\":127.045820077233,\"item_id\":35695603},{\"lat\":37.479411338970856,\"lng\":127.04645450751337,\"item_id\":35657735},{\"lat\":37.47978710845302,\"lng\":127.05020785132385,\"item_id\":35423632},{\"lat\":37.47978926311397,\"lng\":127.04955953954469,\"item_id\":35660088},{\"lat\":37.47942830717304,\"lng\":127.04663164222507,\"item_id\":35688621},{\"lat\":37.479862684863136,\"lng\":127.04767793307748,\"item_id\":35672417}],\"sections\":[{\"type\":\"vip\",\"title\":\"이 지역 안심중개사 VIP 방\",\"item_ids\":[]},{\"type\":\"premium_recommand\",\"title\":\"이 지역 안심중개사 추천 방\",\"item_ids\":[35650007,35678874,35688621,35576881,35575425,35689007]},{\"type\":\"premium_normal\",\"title\":\"이 지역 안심중개사 일반 \",\"item_ids\":[35529990,35529807,35631394,35255801,35683792,35505507,35425243,35673530,35600180,35672067,35552809,35696768,35632836,35692896,35505253,35671367,35419649,35335715,35544585,35177581,35447876]},{\"type\":\"recommand\",\"title\":\"이 지역 최신 방\",\"item_ids\":[35614145,35385267,35481465,35299082,35529886,35669496,35672516,35674112,35699198,35398205,35443703,35674095,35670766,35566714,35438635,35679182,35690464,35581993,35580286,35526746,35703873,35486475,35703075,35423632,35573035,35366884,35553432,35349519,35663883,35573466,35549318,35684569,35214206,35695603,35706574,35566969,35234836,35363669,35495590,35604071,35261421,35672417,35695563,35586882,35701420,35366502,35411716,35566846,35549177,35613313,35487393,35660088,35688909,35594650,35570090,34653089,35541584,35326560,35681989,35688770,35331837,35429252,35677380,35611559,35347226,35592108,35703056,35599934,35573040,35657735,35685064,35608899]},{\"type\":\"normal\",\"title\":\"이 지역 일반 방\",\"item_ids\":[]}],\"subways\":[{\"id\":491,\"name\":\"청계산입구역\",\"description\":\"신분당선\",\"subway_area\":\"수도권\",\"local1\":\"서울특별시\",\"lat\":37.4472269,\"lng\":127.0556701,\"address\":\"서울특별시 서초구 신원동 270-16\"},{\"id\":86,\"name\":\"일원역\",\"description\":\"3호선\",\"subway_area\":\"수도권\",\"local1\":\"서울특별시\",\"lat\":37.483976,\"lng\":127.084137,\"address\":\"서울 강남구 일원본동 214\"}],\"hasNoFiltered\":false}'"
      ]
     },
     "execution_count": 19,
     "metadata": {},
     "output_type": "execute_result"
    }
   ],
   "source": [
    "#items id만 필요한 정보임을 알 수 있다.\n",
    "response.text"
   ]
  },
  {
   "cell_type": "code",
   "execution_count": 20,
   "id": "61c39c8c",
   "metadata": {},
   "outputs": [
    {
     "data": {
      "text/plain": [
       "[35600180, 35695563, 35611559, 35679182, 35335715]"
      ]
     },
     "execution_count": 20,
     "metadata": {},
     "output_type": "execute_result"
    }
   ],
   "source": [
    "data = response.json()['items']\n",
    "ids = [item['item_id'] for item in data]\n",
    "ids[:5]"
   ]
  },
  {
   "cell_type": "markdown",
   "id": "85225aae",
   "metadata": {},
   "source": [
    "#### 4. 매물 아이디로 매물 정보 가져오기"
   ]
  },
  {
   "cell_type": "code",
   "execution_count": 21,
   "id": "0212d892",
   "metadata": {},
   "outputs": [
    {
     "data": {
      "text/plain": [
       "<Response [200]>"
      ]
     },
     "execution_count": 21,
     "metadata": {},
     "output_type": "execute_result"
    }
   ],
   "source": [
    "url = f'https://apis.zigbang.com/v2/items/list' \n",
    "params = {                                  # item 머시기 payload를 통해 확인\n",
    "          'domain': 'zigbang', \n",
    "          'withCoalition': 'true', \n",
    "          'item_ids': ids[:900], # 직방은 아이템 데이터의 갯수를 999개까지 사용 가능 \n",
    "          } \n",
    "\n",
    "response = requests.post(url, params) #post 방식, 영문 숫자 데이터만 있어서 dumps 사용 x\n",
    "response"
   ]
  },
  {
   "cell_type": "code",
   "execution_count": 25,
   "id": "7a08f891",
   "metadata": {},
   "outputs": [
    {
     "data": {
      "text/html": [
       "<div>\n",
       "<style scoped>\n",
       "    .dataframe tbody tr th:only-of-type {\n",
       "        vertical-align: middle;\n",
       "    }\n",
       "\n",
       "    .dataframe tbody tr th {\n",
       "        vertical-align: top;\n",
       "    }\n",
       "\n",
       "    .dataframe thead th {\n",
       "        text-align: right;\n",
       "    }\n",
       "</style>\n",
       "<table border=\"1\" class=\"dataframe\">\n",
       "  <thead>\n",
       "    <tr style=\"text-align: right;\">\n",
       "      <th></th>\n",
       "      <th>section_type</th>\n",
       "      <th>item_id</th>\n",
       "      <th>images_thumbnail</th>\n",
       "      <th>sales_type</th>\n",
       "      <th>sales_title</th>\n",
       "      <th>deposit</th>\n",
       "      <th>rent</th>\n",
       "      <th>size_m2</th>\n",
       "      <th>공급면적</th>\n",
       "      <th>전용면적</th>\n",
       "      <th>...</th>\n",
       "      <th>status</th>\n",
       "      <th>service_type</th>\n",
       "      <th>tags</th>\n",
       "      <th>address1</th>\n",
       "      <th>address2</th>\n",
       "      <th>address3</th>\n",
       "      <th>manage_cost</th>\n",
       "      <th>reg_date</th>\n",
       "      <th>is_new</th>\n",
       "      <th>contract</th>\n",
       "    </tr>\n",
       "  </thead>\n",
       "  <tbody>\n",
       "    <tr>\n",
       "      <th>97</th>\n",
       "      <td>None</td>\n",
       "      <td>35688621</td>\n",
       "      <td>https://ic.zigbang.com/ic/items/35688621/1.jpg</td>\n",
       "      <td>월세</td>\n",
       "      <td>월세</td>\n",
       "      <td>3000</td>\n",
       "      <td>30</td>\n",
       "      <td>16.53</td>\n",
       "      <td>{'m2': 16.53, 'p': '5'}</td>\n",
       "      <td>{'m2': 16.53, 'p': '5'}</td>\n",
       "      <td>...</td>\n",
       "      <td>True</td>\n",
       "      <td>원룸</td>\n",
       "      <td>[추천]</td>\n",
       "      <td>서울시 강남구 개포동</td>\n",
       "      <td>None</td>\n",
       "      <td>None</td>\n",
       "      <td>10</td>\n",
       "      <td>2023-03-03T17:19:16+09:00</td>\n",
       "      <td>False</td>\n",
       "      <td></td>\n",
       "    </tr>\n",
       "    <tr>\n",
       "      <th>98</th>\n",
       "      <td>None</td>\n",
       "      <td>35672417</td>\n",
       "      <td>https://ic.zigbang.com/ic/items/35672417/1.jpg</td>\n",
       "      <td>전세</td>\n",
       "      <td>전세</td>\n",
       "      <td>26500</td>\n",
       "      <td>0</td>\n",
       "      <td>50.58</td>\n",
       "      <td>{'m2': 50.58, 'p': '15.3'}</td>\n",
       "      <td>{'m2': 43.26, 'p': '13.1'}</td>\n",
       "      <td>...</td>\n",
       "      <td>True</td>\n",
       "      <td>빌라</td>\n",
       "      <td>[]</td>\n",
       "      <td>서울시 강남구 개포동</td>\n",
       "      <td>None</td>\n",
       "      <td>None</td>\n",
       "      <td>20</td>\n",
       "      <td>2023-03-02T18:17:46+09:00</td>\n",
       "      <td>False</td>\n",
       "      <td></td>\n",
       "    </tr>\n",
       "  </tbody>\n",
       "</table>\n",
       "<p>2 rows × 31 columns</p>\n",
       "</div>"
      ],
      "text/plain": [
       "   section_type   item_id                                images_thumbnail  \\\n",
       "97         None  35688621  https://ic.zigbang.com/ic/items/35688621/1.jpg   \n",
       "98         None  35672417  https://ic.zigbang.com/ic/items/35672417/1.jpg   \n",
       "\n",
       "   sales_type sales_title  deposit  rent  size_m2                        공급면적  \\\n",
       "97         월세          월세     3000    30    16.53     {'m2': 16.53, 'p': '5'}   \n",
       "98         전세          전세    26500     0    50.58  {'m2': 50.58, 'p': '15.3'}   \n",
       "\n",
       "                          전용면적  ... status service_type  tags     address1  \\\n",
       "97     {'m2': 16.53, 'p': '5'}  ...   True           원룸  [추천]  서울시 강남구 개포동   \n",
       "98  {'m2': 43.26, 'p': '13.1'}  ...   True           빌라    []  서울시 강남구 개포동   \n",
       "\n",
       "   address2 address3 manage_cost                   reg_date is_new contract  \n",
       "97     None     None          10  2023-03-03T17:19:16+09:00  False           \n",
       "98     None     None          20  2023-03-02T18:17:46+09:00  False           \n",
       "\n",
       "[2 rows x 31 columns]"
      ]
     },
     "execution_count": 25,
     "metadata": {},
     "output_type": "execute_result"
    }
   ],
   "source": [
    "#items 데이터 딕셔너리 -> 로우 데이터 하나: 데이터 프레임 만들기\n",
    "data = response.json()['items']\n",
    "df = pd.DataFrame(data)\n",
    "df.tail(2)"
   ]
  },
  {
   "cell_type": "code",
   "execution_count": 29,
   "id": "879614c3",
   "metadata": {},
   "outputs": [
    {
     "data": {
      "text/html": [
       "<div>\n",
       "<style scoped>\n",
       "    .dataframe tbody tr th:only-of-type {\n",
       "        vertical-align: middle;\n",
       "    }\n",
       "\n",
       "    .dataframe tbody tr th {\n",
       "        vertical-align: top;\n",
       "    }\n",
       "\n",
       "    .dataframe thead th {\n",
       "        text-align: right;\n",
       "    }\n",
       "</style>\n",
       "<table border=\"1\" class=\"dataframe\">\n",
       "  <thead>\n",
       "    <tr style=\"text-align: right;\">\n",
       "      <th></th>\n",
       "      <th>section_type</th>\n",
       "      <th>item_id</th>\n",
       "      <th>images_thumbnail</th>\n",
       "      <th>sales_type</th>\n",
       "      <th>sales_title</th>\n",
       "      <th>deposit</th>\n",
       "      <th>rent</th>\n",
       "      <th>size_m2</th>\n",
       "      <th>공급면적</th>\n",
       "      <th>전용면적</th>\n",
       "      <th>계약면적</th>\n",
       "      <th>room_type_title</th>\n",
       "      <th>floor</th>\n",
       "      <th>floor_string</th>\n",
       "      <th>building_floor</th>\n",
       "      <th>title</th>\n",
       "      <th>is_first_movein</th>\n",
       "      <th>room_type</th>\n",
       "      <th>address</th>\n",
       "      <th>random_location</th>\n",
       "      <th>is_zzim</th>\n",
       "      <th>status</th>\n",
       "      <th>service_type</th>\n",
       "      <th>tags</th>\n",
       "      <th>address1</th>\n",
       "      <th>address2</th>\n",
       "      <th>address3</th>\n",
       "      <th>manage_cost</th>\n",
       "      <th>reg_date</th>\n",
       "      <th>is_new</th>\n",
       "      <th>contract</th>\n",
       "    </tr>\n",
       "  </thead>\n",
       "  <tbody>\n",
       "    <tr>\n",
       "      <th>98</th>\n",
       "      <td>None</td>\n",
       "      <td>35672417</td>\n",
       "      <td>https://ic.zigbang.com/ic/items/35672417/1.jpg</td>\n",
       "      <td>전세</td>\n",
       "      <td>전세</td>\n",
       "      <td>26500</td>\n",
       "      <td>0</td>\n",
       "      <td>50.58</td>\n",
       "      <td>{'m2': 50.58, 'p': '15.3'}</td>\n",
       "      <td>{'m2': 43.26, 'p': '13.1'}</td>\n",
       "      <td>None</td>\n",
       "      <td>None</td>\n",
       "      <td>4</td>\n",
       "      <td>4</td>\n",
       "      <td>5</td>\n",
       "      <td>반전세가능💖예쁨주의💖쓰리룸💖대출가능</td>\n",
       "      <td>None</td>\n",
       "      <td>05</td>\n",
       "      <td>강남구 개포동</td>\n",
       "      <td>{'lat': 37.479868459770614, 'lng': 127.0482737...</td>\n",
       "      <td>False</td>\n",
       "      <td>True</td>\n",
       "      <td>빌라</td>\n",
       "      <td>[]</td>\n",
       "      <td>서울시 강남구 개포동</td>\n",
       "      <td>None</td>\n",
       "      <td>None</td>\n",
       "      <td>20</td>\n",
       "      <td>2023-03-02T18:17:46+09:00</td>\n",
       "      <td>False</td>\n",
       "      <td></td>\n",
       "    </tr>\n",
       "  </tbody>\n",
       "</table>\n",
       "</div>"
      ],
      "text/plain": [
       "   section_type   item_id                                images_thumbnail  \\\n",
       "98         None  35672417  https://ic.zigbang.com/ic/items/35672417/1.jpg   \n",
       "\n",
       "   sales_type sales_title  deposit  rent  size_m2                        공급면적  \\\n",
       "98         전세          전세    26500     0    50.58  {'m2': 50.58, 'p': '15.3'}   \n",
       "\n",
       "                          전용면적  계약면적 room_type_title floor floor_string  \\\n",
       "98  {'m2': 43.26, 'p': '13.1'}  None            None     4            4   \n",
       "\n",
       "   building_floor                title is_first_movein room_type  address  \\\n",
       "98              5  반전세가능💖예쁨주의💖쓰리룸💖대출가능            None        05  강남구 개포동   \n",
       "\n",
       "                                      random_location  is_zzim  status  \\\n",
       "98  {'lat': 37.479868459770614, 'lng': 127.0482737...    False    True   \n",
       "\n",
       "   service_type tags     address1 address2 address3 manage_cost  \\\n",
       "98           빌라   []  서울시 강남구 개포동     None     None          20   \n",
       "\n",
       "                     reg_date  is_new contract  \n",
       "98  2023-03-02T18:17:46+09:00   False           "
      ]
     },
     "execution_count": 29,
     "metadata": {},
     "output_type": "execute_result"
    }
   ],
   "source": [
    "#필요한 컬럼만 필터링\n",
    "#1. ... 먼저 보여주기\n",
    "pd.options.display.max_columns = 50\n",
    "df.tail(1)"
   ]
  },
  {
   "cell_type": "code",
   "execution_count": 30,
   "id": "af828bff",
   "metadata": {},
   "outputs": [
    {
     "data": {
      "text/plain": [
       "Index(['section_type', 'item_id', 'images_thumbnail', 'sales_type',\n",
       "       'sales_title', 'deposit', 'rent', 'size_m2', '공급면적', '전용면적', '계약면적',\n",
       "       'room_type_title', 'floor', 'floor_string', 'building_floor', 'title',\n",
       "       'is_first_movein', 'room_type', 'address', 'random_location', 'is_zzim',\n",
       "       'status', 'service_type', 'tags', 'address1', 'address2', 'address3',\n",
       "       'manage_cost', 'reg_date', 'is_new', 'contract'],\n",
       "      dtype='object')"
      ]
     },
     "execution_count": 30,
     "metadata": {},
     "output_type": "execute_result"
    }
   ],
   "source": [
    "df.columns"
   ]
  },
  {
   "cell_type": "code",
   "execution_count": null,
   "id": "3ffb5300",
   "metadata": {},
   "outputs": [],
   "source": [
    "# 데이터 전처리\n"
   ]
  },
  {
   "cell_type": "code",
   "execution_count": 36,
   "id": "0a953bcb",
   "metadata": {},
   "outputs": [
    {
     "data": {
      "text/html": [
       "<div>\n",
       "<style scoped>\n",
       "    .dataframe tbody tr th:only-of-type {\n",
       "        vertical-align: middle;\n",
       "    }\n",
       "\n",
       "    .dataframe tbody tr th {\n",
       "        vertical-align: top;\n",
       "    }\n",
       "\n",
       "    .dataframe thead th {\n",
       "        text-align: right;\n",
       "    }\n",
       "</style>\n",
       "<table border=\"1\" class=\"dataframe\">\n",
       "  <thead>\n",
       "    <tr style=\"text-align: right;\">\n",
       "      <th></th>\n",
       "      <th>item_id</th>\n",
       "      <th>sales_type</th>\n",
       "      <th>deposit</th>\n",
       "      <th>rent</th>\n",
       "      <th>size_m2</th>\n",
       "      <th>floor</th>\n",
       "      <th>building_floor</th>\n",
       "      <th>title</th>\n",
       "      <th>address</th>\n",
       "      <th>status</th>\n",
       "      <th>service_type</th>\n",
       "      <th>tags</th>\n",
       "      <th>address1</th>\n",
       "      <th>manage_cost</th>\n",
       "    </tr>\n",
       "  </thead>\n",
       "  <tbody>\n",
       "    <tr>\n",
       "      <th>63</th>\n",
       "      <td>35688621</td>\n",
       "      <td>월세</td>\n",
       "      <td>3000</td>\n",
       "      <td>30</td>\n",
       "      <td>16.53</td>\n",
       "      <td>2</td>\n",
       "      <td>4</td>\n",
       "      <td>☎☎보증금대출 불가!  관리비에 모든 공과금 포함! 풀옵션</td>\n",
       "      <td>강남구 개포동</td>\n",
       "      <td>True</td>\n",
       "      <td>원룸</td>\n",
       "      <td>[추천]</td>\n",
       "      <td>서울시 강남구 개포동</td>\n",
       "      <td>10</td>\n",
       "    </tr>\n",
       "    <tr>\n",
       "      <th>64</th>\n",
       "      <td>35672417</td>\n",
       "      <td>전세</td>\n",
       "      <td>26500</td>\n",
       "      <td>0</td>\n",
       "      <td>50.58</td>\n",
       "      <td>4</td>\n",
       "      <td>5</td>\n",
       "      <td>반전세가능💖예쁨주의💖쓰리룸💖대출가능</td>\n",
       "      <td>강남구 개포동</td>\n",
       "      <td>True</td>\n",
       "      <td>빌라</td>\n",
       "      <td>[]</td>\n",
       "      <td>서울시 강남구 개포동</td>\n",
       "      <td>20</td>\n",
       "    </tr>\n",
       "  </tbody>\n",
       "</table>\n",
       "</div>"
      ],
      "text/plain": [
       "     item_id sales_type  deposit  rent  size_m2 floor building_floor  \\\n",
       "63  35688621         월세     3000    30    16.53     2              4   \n",
       "64  35672417         전세    26500     0    50.58     4              5   \n",
       "\n",
       "                               title  address  status service_type  tags  \\\n",
       "63  ☎☎보증금대출 불가!  관리비에 모든 공과금 포함! 풀옵션  강남구 개포동    True           원룸  [추천]   \n",
       "64               반전세가능💖예쁨주의💖쓰리룸💖대출가능  강남구 개포동    True           빌라    []   \n",
       "\n",
       "       address1 manage_cost  \n",
       "63  서울시 강남구 개포동          10  \n",
       "64  서울시 강남구 개포동          20  "
      ]
     },
     "execution_count": 36,
     "metadata": {},
     "output_type": "execute_result"
    }
   ],
   "source": [
    "#원하는 컬럼만 출력\n",
    "columns = ['item_id',  'sales_type', 'deposit','rent', 'size_m2', \n",
    "           'floor','building_floor', 'title','address','status', \n",
    "           'service_type', 'tags','address1','manage_cost']\n",
    "df = df[columns]\n",
    "# 데이터 전처리(검색지역 외 지역 필터링)\n",
    "df = df[df['address'].str.contains(address)].reset_index(drop=True)\n",
    "df.tail(2)"
   ]
  },
  {
   "cell_type": "code",
   "execution_count": null,
   "metadata": {},
   "outputs": [],
   "source": [
    "# 꿀팁: 학습방법 회사에서 일을 하기 위한 수준으로\n",
    "'''\n",
    "예를 들어 pandas 공부를 해야한다면 pandas 공식 사이트에 간다.-> doucumentation 해보기, 10 minutes to pandas\n",
    "mysql도 마찬가지\n",
    "파이썬 공부는 pep documents\n",
    "문법(잘못작성하면 에러, 코드 실행x), 컨벤션(에러밸생x, 코드실행o)\n",
    "pep 20(파이썬철학), pep8(코딩스타일 가이드)\n",
    "flake8: 코드의효율성 체크\n",
    "'''"
   ]
  },
  {
   "cell_type": "code",
   "execution_count": 37,
   "id": "bae57ac0",
   "metadata": {},
   "outputs": [
    {
     "name": "stdout",
     "output_type": "stream",
     "text": [
      "The Zen of Python, by Tim Peters\n",
      "\n",
      "Beautiful is better than ugly.\n",
      "Explicit is better than implicit.\n",
      "Simple is better than complex.\n",
      "Complex is better than complicated.\n",
      "Flat is better than nested.\n",
      "Sparse is better than dense.\n",
      "Readability counts.\n",
      "Special cases aren't special enough to break the rules.\n",
      "Although practicality beats purity.\n",
      "Errors should never pass silently.\n",
      "Unless explicitly silenced.\n",
      "In the face of ambiguity, refuse the temptation to guess.\n",
      "There should be one-- and preferably only one --obvious way to do it.\n",
      "Although that way may not be obvious at first unless you're Dutch.\n",
      "Now is better than never.\n",
      "Although never is often better than *right* now.\n",
      "If the implementation is hard to explain, it's a bad idea.\n",
      "If the implementation is easy to explain, it may be a good idea.\n",
      "Namespaces are one honking great idea -- let's do more of those!\n"
     ]
    }
   ],
   "source": [
    "import this"
   ]
  },
  {
   "cell_type": "code",
   "execution_count": null,
   "id": "2b46bb28",
   "metadata": {},
   "outputs": [],
   "source": []
  },
  {
   "cell_type": "code",
   "execution_count": null,
   "id": "e31a6937",
   "metadata": {},
   "outputs": [],
   "source": []
  },
  {
   "cell_type": "code",
   "execution_count": null,
   "id": "cfb951ac",
   "metadata": {},
   "outputs": [],
   "source": []
  },
  {
   "cell_type": "code",
   "execution_count": null,
   "id": "0d387cd0",
   "metadata": {},
   "outputs": [],
   "source": []
  },
  {
   "cell_type": "code",
   "execution_count": null,
   "id": "804c2b14",
   "metadata": {},
   "outputs": [],
   "source": []
  },
  {
   "cell_type": "code",
   "execution_count": null,
   "id": "c47cfb01",
   "metadata": {},
   "outputs": [],
   "source": []
  },
  {
   "cell_type": "code",
   "execution_count": null,
   "id": "dc72c10c",
   "metadata": {},
   "outputs": [],
   "source": []
  },
  {
   "cell_type": "code",
   "execution_count": null,
   "id": "a536968e",
   "metadata": {},
   "outputs": [],
   "source": []
  },
  {
   "cell_type": "code",
   "execution_count": null,
   "id": "4ab5aae9",
   "metadata": {},
   "outputs": [],
   "source": []
  },
  {
   "cell_type": "code",
   "execution_count": null,
   "id": "ca5b5779",
   "metadata": {},
   "outputs": [],
   "source": []
  },
  {
   "cell_type": "code",
   "execution_count": null,
   "id": "2aebef97",
   "metadata": {},
   "outputs": [],
   "source": []
  },
  {
   "cell_type": "code",
   "execution_count": null,
   "id": "1934099a",
   "metadata": {},
   "outputs": [],
   "source": []
  }
 ],
 "metadata": {
  "kernelspec": {
   "display_name": "Python 3",
   "language": "python",
   "name": "python3"
  },
  "language_info": {
   "codemirror_mode": {
    "name": "ipython",
    "version": 3
   },
   "file_extension": ".py",
   "mimetype": "text/x-python",
   "name": "python",
   "nbconvert_exporter": "python",
   "pygments_lexer": "ipython3",
   "version": "3.10.9"
  },
  "toc": {
   "base_numbering": 1,
   "nav_menu": {},
   "number_sections": false,
   "sideBar": true,
   "skip_h1_title": false,
   "title_cell": "Table of Contents",
   "title_sidebar": "Contents",
   "toc_cell": false,
   "toc_position": {},
   "toc_section_display": true,
   "toc_window_display": false
  },
  "vscode": {
   "interpreter": {
    "hash": "afb734500600fd355917ca529030176ea0ca205570884b88f2f6f7d791fd3fbe"
   }
  }
 },
 "nbformat": 4,
 "nbformat_minor": 5
}
