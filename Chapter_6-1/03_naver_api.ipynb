{
 "cells": [
  {
   "cell_type": "code",
   "execution_count": null,
   "metadata": {},
   "outputs": [],
   "source": [
    "#크롤링 정책\n",
    "# robots.txt: 웹페이지의 크롤링 정책 설명한 페이지\n",
    "#ex) https://www.ted.com/robots.txt\n",
    "#크롤링법은 없다. 하지만 과도한 크롤링으로 서비스에 영향을 주었ㅇ르 경우 업무방해 혐의로 고소 당할 수 있다.\n",
    "#법정문제: 지적재산권, 서비스과부화, 데이터사용표준\n",
    "# API 사용: 데이터를 가지고 있는 업체에서 데이터를 가져갈 수 있도록 하는 서비스\n"
   ]
  },
  {
   "cell_type": "markdown",
   "metadata": {
    "id": "apodUP-CYr3_"
   },
   "source": [
    "### Naver Rest API\n",
    "- 파파고 번역 api\n",
    "- 통합검색어 트렌드 api"
   ]
  },
  {
   "cell_type": "code",
   "execution_count": 1,
   "metadata": {},
   "outputs": [],
   "source": [
    "import pandas as pd\n",
    "import requests, json"
   ]
  },
  {
   "cell_type": "markdown",
   "metadata": {
    "id": "ZEU1PeYTYr4C"
   },
   "source": [
    "#### 0. request token 얻기\n",
    "- `https://developers.naver.com`\n",
    "- 1. Request Token 얻기 : 애플리케이션등록 -> app_key 획득\n",
    "- 2. app_key를 이용해서 데이터 가져오기"
   ]
  },
  {
   "cell_type": "code",
   "execution_count": 2,
   "metadata": {},
   "outputs": [],
   "source": [
    "CLIENT_ID = 'NILfY7Iv8NCrOArn6g9i'\n",
    "CLIENT_SECRET ='7pG0_eVO_J'"
   ]
  },
  {
   "cell_type": "markdown",
   "metadata": {
    "id": "Fjd55ZqEYr4D"
   },
   "source": [
    "#### 1. 파파고 번역 api\n",
    "- `https://developers.naver.com/docs/papago/`\n",
    "- 사용법\n",
    "    - `https://developers.naver.com/docs/papago/papago-nmt-api-reference.md`"
   ]
  },
  {
   "cell_type": "code",
   "execution_count": 3,
   "metadata": {},
   "outputs": [],
   "source": [
    "#1. API 문서: URL\n",
    "ko_txt = '아 배고파'\n",
    "url = f'https://openapi.naver.com/v1/papago/n2mt'\n",
    "headers={\n",
    "    'Content-Type': 'application/json',\n",
    "    'X-Naver-Client-Id': CLIENT_ID,\n",
    "    'X-Naver-Client-Secret': CLIENT_SECRET\n",
    "}\n",
    "params={'source': 'ko', 'target': 'en', 'text': ko_txt}"
   ]
  },
  {
   "cell_type": "code",
   "execution_count": 4,
   "metadata": {},
   "outputs": [
    {
     "data": {
      "text/plain": [
       "<Response [200]>"
      ]
     },
     "execution_count": 4,
     "metadata": {},
     "output_type": "execute_result"
    }
   ],
   "source": [
    "#2. request(URL, key, ko_txt) > response: json(str)\n",
    "json.dumps(params) # 한국어 전송을 위해 영문,특수문자 형태로 변환(인코딩)해서 전송, 한글 데이터 활용시 필요\n",
    "response = requests.post(url, json.dumps(params),headers=headers)  #200번 나오면 정상 작동\n",
    "response"
   ]
  },
  {
   "cell_type": "code",
   "execution_count": 5,
   "metadata": {},
   "outputs": [
    {
     "data": {
      "text/plain": [
       "'{\"message\":{\"result\":{\"srcLangType\":\"ko\",\"tarLangType\":\"en\",\"translatedText\":\"Oh, I\\'m hungry.\",\"engineType\":\"N2MT\",\"pivot\":null,\"dict\":null,\"tarDict\":null,\"modelVer\":\"1.5.8|enko.2022.0929.03|koen.2022.1206.02\"},\"@type\":\"response\",\"@service\":\"naverservice.nmt.proxy\",\"@version\":\"1.0.0\"}}'"
      ]
     },
     "execution_count": 5,
     "metadata": {},
     "output_type": "execute_result"
    }
   ],
   "source": [
    "response.text"
   ]
  },
  {
   "cell_type": "code",
   "execution_count": 6,
   "metadata": {},
   "outputs": [
    {
     "data": {
      "text/plain": [
       "\"Oh, I'm hungry.\""
      ]
     },
     "execution_count": 6,
     "metadata": {},
     "output_type": "execute_result"
    }
   ],
   "source": [
    "#3. json(str): en_text\n",
    "response.json()['message']['result']['translatedText']"
   ]
  },
  {
   "cell_type": "code",
   "execution_count": 7,
   "metadata": {},
   "outputs": [],
   "source": [
    "# MakeFunction\n",
    "def translate(txt, source='ko', target='en'):\n",
    "    CLIENT_ID = 'NILfY7Iv8NCrOArn6g9i'\n",
    "    CLIENT_SECRET ='7pG0_eVO_J'\n",
    "    url = f'https://openapi.naver.com/v1/papago/n2mt'\n",
    "    headers={\n",
    "    'Content-Type': 'application/json',\n",
    "    'X-Naver-Client-Id': CLIENT_ID,\n",
    "    'X-Naver-Client-Secret': CLIENT_SECRET\n",
    "}\n",
    "    params={'source': 'ko', 'target': 'en', 'text': txt}\n",
    "    response = requests.post(url, json.dumps(params),headers=headers)\n",
    "    return response.json()['message']['result']['translatedText']"
   ]
  },
  {
   "cell_type": "code",
   "execution_count": 8,
   "metadata": {},
   "outputs": [
    {
     "data": {
      "text/plain": [
       "'Data Science is fun.'"
      ]
     },
     "execution_count": 8,
     "metadata": {},
     "output_type": "execute_result"
    }
   ],
   "source": [
    "translate('데이터 사이언스는 재미있습니다.')"
   ]
  },
  {
   "cell_type": "code",
   "execution_count": 9,
   "metadata": {},
   "outputs": [
    {
     "data": {
      "text/html": [
       "<div>\n",
       "<style scoped>\n",
       "    .dataframe tbody tr th:only-of-type {\n",
       "        vertical-align: middle;\n",
       "    }\n",
       "\n",
       "    .dataframe tbody tr th {\n",
       "        vertical-align: top;\n",
       "    }\n",
       "\n",
       "    .dataframe thead th {\n",
       "        text-align: right;\n",
       "    }\n",
       "</style>\n",
       "<table border=\"1\" class=\"dataframe\">\n",
       "  <thead>\n",
       "    <tr style=\"text-align: right;\">\n",
       "      <th></th>\n",
       "      <th>id</th>\n",
       "      <th>title</th>\n",
       "    </tr>\n",
       "  </thead>\n",
       "  <tbody>\n",
       "    <tr>\n",
       "      <th>0</th>\n",
       "      <td>A</td>\n",
       "      <td>인공지능 스쿨 화이팅</td>\n",
       "    </tr>\n",
       "    <tr>\n",
       "      <th>1</th>\n",
       "      <td>B</td>\n",
       "      <td>데이터 크롤링</td>\n",
       "    </tr>\n",
       "  </tbody>\n",
       "</table>\n",
       "</div>"
      ],
      "text/plain": [
       "  id        title\n",
       "0  A  인공지능 스쿨 화이팅\n",
       "1  B      데이터 크롤링"
      ]
     },
     "execution_count": 9,
     "metadata": {},
     "output_type": "execute_result"
    }
   ],
   "source": [
    "df=pd.DataFrame({\n",
    "    'id': list('AB'),\n",
    "    'title': ['인공지능 스쿨 화이팅', '데이터 크롤링']\n",
    "})\n",
    "df"
   ]
  },
  {
   "cell_type": "code",
   "execution_count": 10,
   "metadata": {},
   "outputs": [
    {
     "data": {
      "text/html": [
       "<div>\n",
       "<style scoped>\n",
       "    .dataframe tbody tr th:only-of-type {\n",
       "        vertical-align: middle;\n",
       "    }\n",
       "\n",
       "    .dataframe tbody tr th {\n",
       "        vertical-align: top;\n",
       "    }\n",
       "\n",
       "    .dataframe thead th {\n",
       "        text-align: right;\n",
       "    }\n",
       "</style>\n",
       "<table border=\"1\" class=\"dataframe\">\n",
       "  <thead>\n",
       "    <tr style=\"text-align: right;\">\n",
       "      <th></th>\n",
       "      <th>id</th>\n",
       "      <th>title</th>\n",
       "      <th>en_title</th>\n",
       "    </tr>\n",
       "  </thead>\n",
       "  <tbody>\n",
       "    <tr>\n",
       "      <th>0</th>\n",
       "      <td>A</td>\n",
       "      <td>인공지능 스쿨 화이팅</td>\n",
       "      <td>AI school, fighting!</td>\n",
       "    </tr>\n",
       "    <tr>\n",
       "      <th>1</th>\n",
       "      <td>B</td>\n",
       "      <td>데이터 크롤링</td>\n",
       "      <td>Crawling data</td>\n",
       "    </tr>\n",
       "  </tbody>\n",
       "</table>\n",
       "</div>"
      ],
      "text/plain": [
       "  id        title              en_title\n",
       "0  A  인공지능 스쿨 화이팅  AI school, fighting!\n",
       "1  B      데이터 크롤링         Crawling data"
      ]
     },
     "execution_count": 10,
     "metadata": {},
     "output_type": "execute_result"
    }
   ],
   "source": [
    "df['en_title']=df['title'].apply(translate)\n",
    "df"
   ]
  },
  {
   "cell_type": "code",
   "execution_count": null,
   "metadata": {},
   "outputs": [],
   "source": [
    "df.to_excel('en_title.xlsx', index=False, encoding='utf-8-sig')"
   ]
  },
  {
   "cell_type": "code",
   "execution_count": null,
   "metadata": {},
   "outputs": [],
   "source": [
    "%ls"
   ]
  },
  {
   "cell_type": "markdown",
   "metadata": {
    "id": "gEKpR7ibYr4G"
   },
   "source": [
    "#### 2. 통합검색어 트렌드 api\n",
    "- 서비스 : `https://datalab.naver.com/keyword/trendSearch.naver`\n",
    "- 내 애플리케이션 > dss 애플리케이션 > API 설정 > 데이터랩(검색어 트렌드) 추가\n",
    "- 사용법 : `https://developers.naver.com/docs/serviceapi/datalab/search/search.md#통합-검색어-트렌드`"
   ]
  },
  {
   "cell_type": "code",
   "execution_count": 13,
   "metadata": {},
   "outputs": [
    {
     "name": "stdout",
     "output_type": "stream",
     "text": [
      "Interactive namespace is empty.\n"
     ]
    }
   ],
   "source": [
    "# 현재 선언 되어있는 변수 확인\n",
    "%whos"
   ]
  },
  {
   "cell_type": "code",
   "execution_count": 14,
   "metadata": {},
   "outputs": [],
   "source": [
    "# 현재 선언되어있는 변수 초기화\n",
    "%reset"
   ]
  },
  {
   "cell_type": "code",
   "execution_count": 52,
   "metadata": {},
   "outputs": [],
   "source": [
    "CLIENT_ID = 'NILfY7Iv8NCrOArn6g9i'\n",
    "CLIENT_SECRET ='7pG0_eVO_J'"
   ]
  },
  {
   "cell_type": "code",
   "execution_count": 59,
   "metadata": {},
   "outputs": [],
   "source": [
    "#1. API 문서: URL\n",
    "url = 'https://openapi.naver.com/v1/datalab/search'\n",
    "params ={\n",
    "    'startDate': '2018-01-01',\n",
    "    'endDate': '2023-02-16',\n",
    "    'timeUnit': 'month',\n",
    "    'keywordGroups': [\n",
    "        {'groupName': '트위터','keywords': ['트위터','트윗']},\n",
    "        {'groupName': '페이스북','keywords': ['페이스북','페북']},\n",
    "        {'groupName': '인스타그램','keywords': ['인스타그램','인스타']}\n",
    "        ]\n",
    "}"
   ]
  },
  {
   "cell_type": "code",
   "execution_count": 60,
   "metadata": {},
   "outputs": [],
   "source": [
    "headers={\n",
    "    'Content-Type': 'application/json',\n",
    "    'X-Naver-Client-Id': CLIENT_ID,\n",
    "    'X-Naver-Client-Secret': CLIENT_SECRET\n",
    "}"
   ]
  },
  {
   "cell_type": "code",
   "execution_count": 61,
   "metadata": {},
   "outputs": [
    {
     "data": {
      "text/plain": [
       "<Response [200]>"
      ]
     },
     "execution_count": 61,
     "metadata": {},
     "output_type": "execute_result"
    }
   ],
   "source": [
    "#2. request(URL) > response: json(str) : 데이터 요청\n",
    "response = requests.post(url, json.dumps(params), headers=headers)\n",
    "response"
   ]
  },
  {
   "cell_type": "code",
   "execution_count": 63,
   "metadata": {},
   "outputs": [
    {
     "data": {
      "text/plain": [
       "'{\"startDate\":\"2018-01-01\",\"endDate\":\"2023-02-16\",\"timeUnit\":\"month\",\"results\":[{\"title\":\"트위터\",\"keywords\":[\"트위터\",\"트윗\"],\"data\":[{\"period\":\"2018-01-01\",\"ratio\":14.59502},{\"period\":\"2018-02-01\",\"ratio\":13.0238},{\"period\":\"2018-03-01\",\"ratio\":12.97953},{\"period\":\"2018-04-01\",\"ratio\":12.82991},{\"period\":\"2018-05-01\",\"ratio\":13.05391},{\"period\":\"2018-06-01\",\"ratio\":13.34512},{\"period\":\"2018-07-01\",\"ratio\":13.02773},{\"period\":\"2018-08-01\",\"ratio\":13.45399},{\"period\":\"2018-09-01\",\"ratio\":12.83755},{\"period\":\"2018-10-01\",\"ratio\":13.05677},{\"period\":\"2018-11-01\",\"ratio\":12.77338},{\"period\":\"2018-12-01\",\"ratio\":12.86931},{\"period\":\"2019-01-01\",\"ratio\":13.31172},{\"period\":\"2019-02-01\",\"ratio\":11.74776},{\"period\":\"2019-03-01\",\"ratio\":11.82313},{\"period\":\"2019-04-01\",\"ratio\":12.32991},{\"period\":\"2019-05-01\",\"ratio\":12.43771},{\"period\":\"2019-06-01\",\"ratio\":13.29913},{\"period\":\"2019-07-01\",\"ratio\":14.00593},{\"period\":\"2019-08-01\",\"ratio\":14.208},{\"period\":\"2019-09-01\",\"ratio\":14.00856},{\"period\":\"2019-10-01\",\"ratio\":14.88466},{\"period\":\"2019-11-01\",\"ratio\":14.352},{\"period\":\"2019-12-01\",\"ratio\":14.36689},{\"period\":\"2020-01-01\",\"ratio\":16.05722},{\"period\":\"2020-02-01\",\"ratio\":15.71465},{\"period\":\"2020-03-01\",\"ratio\":18.5669},{\"period\":\"2020-04-01\",\"ratio\":18.29928},{\"period\":\"2020-05-01\",\"ratio\":21.0523},{\"period\":\"2020-06-01\",\"ratio\":19.27569},{\"period\":\"2020-07-01\",\"ratio\":20.59297},{\"period\":\"2020-08-01\",\"ratio\":19.3598},{\"period\":\"2020-09-01\",\"ratio\":19.96801},{\"period\":\"2020-10-01\",\"ratio\":20.88909},{\"period\":\"2020-11-01\",\"ratio\":19.58926},{\"period\":\"2020-12-01\",\"ratio\":21.54861},{\"period\":\"2021-01-01\",\"ratio\":21.93972},{\"period\":\"2021-02-01\",\"ratio\":20.09926},{\"period\":\"2021-03-01\",\"ratio\":21.47994},{\"period\":\"2021-04-01\",\"ratio\":22.94525},{\"period\":\"2021-05-01\",\"ratio\":23.00813},{\"period\":\"2021-06-01\",\"ratio\":22.19201},{\"period\":\"2021-07-01\",\"ratio\":22.44472},{\"period\":\"2021-08-01\",\"ratio\":23.87169},{\"period\":\"2021-09-01\",\"ratio\":21.40248},{\"period\":\"2021-10-01\",\"ratio\":22.49636},{\"period\":\"2021-11-01\",\"ratio\":21.3438},{\"period\":\"2021-12-01\",\"ratio\":21.55931},{\"period\":\"2022-01-01\",\"ratio\":21.94339},{\"period\":\"2022-02-01\",\"ratio\":22.43099},{\"period\":\"2022-03-01\",\"ratio\":23.78266},{\"period\":\"2022-04-01\",\"ratio\":23.83847},{\"period\":\"2022-05-01\",\"ratio\":22.99363},{\"period\":\"2022-06-01\",\"ratio\":23.2411},{\"period\":\"2022-07-01\",\"ratio\":24.06197},{\"period\":\"2022-08-01\",\"ratio\":25.72802},{\"period\":\"2022-09-01\",\"ratio\":24.25256},{\"period\":\"2022-10-01\",\"ratio\":27.11456},{\"period\":\"2022-11-01\",\"ratio\":25.4193},{\"period\":\"2022-12-01\",\"ratio\":25.55513},{\"period\":\"2023-01-01\",\"ratio\":26.64944},{\"period\":\"2023-02-01\",\"ratio\":13.56007}]},{\"title\":\"페이스북\",\"keywords\":[\"페이스북\",\"페북\"],\"data\":[{\"period\":\"2018-01-01\",\"ratio\":97.80481},{\"period\":\"2018-02-01\",\"ratio\":89.05814},{\"period\":\"2018-03-01\",\"ratio\":98.84292},{\"period\":\"2018-04-01\",\"ratio\":100},{\"period\":\"2018-05-01\",\"ratio\":92.23588},{\"period\":\"2018-06-01\",\"ratio\":91.70143},{\"period\":\"2018-07-01\",\"ratio\":87.916},{\"period\":\"2018-08-01\",\"ratio\":83.56488},{\"period\":\"2018-09-01\",\"ratio\":82.66018},{\"period\":\"2018-10-01\",\"ratio\":81.30381},{\"period\":\"2018-11-01\",\"ratio\":76.80167},{\"period\":\"2018-12-01\",\"ratio\":75.43269},{\"period\":\"2019-01-01\",\"ratio\":70.21709},{\"period\":\"2019-02-01\",\"ratio\":62.57096},{\"period\":\"2019-03-01\",\"ratio\":70.02431},{\"period\":\"2019-04-01\",\"ratio\":71.67271},{\"period\":\"2019-05-01\",\"ratio\":67.79872},{\"period\":\"2019-06-01\",\"ratio\":69.23259},{\"period\":\"2019-07-01\",\"ratio\":64.22088},{\"period\":\"2019-08-01\",\"ratio\":61.74662},{\"period\":\"2019-09-01\",\"ratio\":62.30318},{\"period\":\"2019-10-01\",\"ratio\":62.46025},{\"period\":\"2019-11-01\",\"ratio\":59.88514},{\"period\":\"2019-12-01\",\"ratio\":57.80639},{\"period\":\"2020-01-01\",\"ratio\":55.94828},{\"period\":\"2020-02-01\",\"ratio\":56.90092},{\"period\":\"2020-03-01\",\"ratio\":63.03497},{\"period\":\"2020-04-01\",\"ratio\":57.31923},{\"period\":\"2020-05-01\",\"ratio\":56.65968},{\"period\":\"2020-06-01\",\"ratio\":54.42362},{\"period\":\"2020-07-01\",\"ratio\":56.80884},{\"period\":\"2020-08-01\",\"ratio\":54.60338},{\"period\":\"2020-09-01\",\"ratio\":51.64203},{\"period\":\"2020-10-01\",\"ratio\":48.64782},{\"period\":\"2020-11-01\",\"ratio\":46.34281},{\"period\":\"2020-12-01\",\"ratio\":47.16999},{\"period\":\"2021-01-01\",\"ratio\":43.23795},{\"period\":\"2021-02-01\",\"ratio\":37.94335},{\"period\":\"2021-03-01\",\"ratio\":42.96809},{\"period\":\"2021-04-01\",\"ratio\":42.4486},{\"period\":\"2021-05-01\",\"ratio\":39.64216},{\"period\":\"2021-06-01\",\"ratio\":38.09701},{\"period\":\"2021-07-01\",\"ratio\":36.44556},{\"period\":\"2021-08-01\",\"ratio\":34.16464},{\"period\":\"2021-09-01\",\"ratio\":31.2108},{\"period\":\"2021-10-01\",\"ratio\":32.85607},{\"period\":\"2021-11-01\",\"ratio\":28.60438},{\"period\":\"2021-12-01\",\"ratio\":27.23295},{\"period\":\"2022-01-01\",\"ratio\":25.93933},{\"period\":\"2022-02-01\",\"ratio\":23.6213},{\"period\":\"2022-03-01\",\"ratio\":24.75851},{\"period\":\"2022-04-01\",\"ratio\":22.22382},{\"period\":\"2022-05-01\",\"ratio\":21.65302},{\"period\":\"2022-06-01\",\"ratio\":20.04381},{\"period\":\"2022-07-01\",\"ratio\":19.53712},{\"period\":\"2022-08-01\",\"ratio\":18.46511},{\"period\":\"2022-09-01\",\"ratio\":17.02193},{\"period\":\"2022-10-01\",\"ratio\":16.73444},{\"period\":\"2022-11-01\",\"ratio\":15.12064},{\"period\":\"2022-12-01\",\"ratio\":14.72503},{\"period\":\"2023-01-01\",\"ratio\":14.87866},{\"period\":\"2023-02-01\",\"ratio\":7.00545}]},{\"title\":\"인스타그램\",\"keywords\":[\"인스타그램\",\"인스타\"],\"data\":[{\"period\":\"2018-01-01\",\"ratio\":23.41982},{\"period\":\"2018-02-01\",\"ratio\":22.53544},{\"period\":\"2018-03-01\",\"ratio\":25.3988},{\"period\":\"2018-04-01\",\"ratio\":26.55983},{\"period\":\"2018-05-01\",\"ratio\":28.60035},{\"period\":\"2018-06-01\",\"ratio\":28.40753},{\"period\":\"2018-07-01\",\"ratio\":27.84405},{\"period\":\"2018-08-01\",\"ratio\":29.84383},{\"period\":\"2018-09-01\",\"ratio\":25.05096},{\"period\":\"2018-10-01\",\"ratio\":27.2048},{\"period\":\"2018-11-01\",\"ratio\":21.97864},{\"period\":\"2018-12-01\",\"ratio\":20.8739},{\"period\":\"2019-01-01\",\"ratio\":22.51379},{\"period\":\"2019-02-01\",\"ratio\":19.33788},{\"period\":\"2019-03-01\",\"ratio\":21.67678},{\"period\":\"2019-04-01\",\"ratio\":21.16257},{\"period\":\"2019-05-01\",\"ratio\":20.9485},{\"period\":\"2019-06-01\",\"ratio\":21.76954},{\"period\":\"2019-07-01\",\"ratio\":22.586},{\"period\":\"2019-08-01\",\"ratio\":21.43535},{\"period\":\"2019-09-01\",\"ratio\":19.83802},{\"period\":\"2019-10-01\",\"ratio\":22.24957},{\"period\":\"2019-11-01\",\"ratio\":21.55812},{\"period\":\"2019-12-01\",\"ratio\":21.52333},{\"period\":\"2020-01-01\",\"ratio\":22.0381},{\"period\":\"2020-02-01\",\"ratio\":21.53446},{\"period\":\"2020-03-01\",\"ratio\":25.01454},{\"period\":\"2020-04-01\",\"ratio\":24.12708},{\"period\":\"2020-05-01\",\"ratio\":25.68412},{\"period\":\"2020-06-01\",\"ratio\":25.47291},{\"period\":\"2020-07-01\",\"ratio\":27.08637},{\"period\":\"2020-08-01\",\"ratio\":26.73002},{\"period\":\"2020-09-01\",\"ratio\":26.0109},{\"period\":\"2020-10-01\",\"ratio\":26.21388},{\"period\":\"2020-11-01\",\"ratio\":25.81836},{\"period\":\"2020-12-01\",\"ratio\":25.74078},{\"period\":\"2021-01-01\",\"ratio\":25.5243},{\"period\":\"2021-02-01\",\"ratio\":22.79679},{\"period\":\"2021-03-01\",\"ratio\":28.04835},{\"period\":\"2021-04-01\",\"ratio\":27.90414},{\"period\":\"2021-05-01\",\"ratio\":26.56014},{\"period\":\"2021-06-01\",\"ratio\":26.31208},{\"period\":\"2021-07-01\",\"ratio\":25.15776},{\"period\":\"2021-08-01\",\"ratio\":25.07517},{\"period\":\"2021-09-01\",\"ratio\":24.95299},{\"period\":\"2021-10-01\",\"ratio\":28.76584},{\"period\":\"2021-11-01\",\"ratio\":23.30904},{\"period\":\"2021-12-01\",\"ratio\":22.87539},{\"period\":\"2022-01-01\",\"ratio\":22.0805},{\"period\":\"2022-02-01\",\"ratio\":20.23895},{\"period\":\"2022-03-01\",\"ratio\":22.4226},{\"period\":\"2022-04-01\",\"ratio\":22.07676},{\"period\":\"2022-05-01\",\"ratio\":22.23291},{\"period\":\"2022-06-01\",\"ratio\":21.63141},{\"period\":\"2022-07-01\",\"ratio\":21.40551},{\"period\":\"2022-08-01\",\"ratio\":21.78211},{\"period\":\"2022-09-01\",\"ratio\":21.07918},{\"period\":\"2022-10-01\",\"ratio\":23.38901},{\"period\":\"2022-11-01\",\"ratio\":21.51581},{\"period\":\"2022-12-01\",\"ratio\":20.33907},{\"period\":\"2023-01-01\",\"ratio\":20.30135},{\"period\":\"2023-02-01\",\"ratio\":10.55313}]}]}'"
      ]
     },
     "execution_count": 63,
     "metadata": {},
     "output_type": "execute_result"
    }
   ],
   "source": [
    "#3. json(str) > list, dict > DataFrame : \n",
    "response.text"
   ]
  },
  {
   "cell_type": "code",
   "execution_count": 64,
   "metadata": {},
   "outputs": [
    {
     "data": {
      "text/plain": [
       "{'startDate': '2018-01-01',\n",
       " 'endDate': '2023-02-16',\n",
       " 'timeUnit': 'month',\n",
       " 'results': [{'title': '트위터',\n",
       "   'keywords': ['트위터', '트윗'],\n",
       "   'data': [{'period': '2018-01-01', 'ratio': 14.59502},\n",
       "    {'period': '2018-02-01', 'ratio': 13.0238},\n",
       "    {'period': '2018-03-01', 'ratio': 12.97953},\n",
       "    {'period': '2018-04-01', 'ratio': 12.82991},\n",
       "    {'period': '2018-05-01', 'ratio': 13.05391},\n",
       "    {'period': '2018-06-01', 'ratio': 13.34512},\n",
       "    {'period': '2018-07-01', 'ratio': 13.02773},\n",
       "    {'period': '2018-08-01', 'ratio': 13.45399},\n",
       "    {'period': '2018-09-01', 'ratio': 12.83755},\n",
       "    {'period': '2018-10-01', 'ratio': 13.05677},\n",
       "    {'period': '2018-11-01', 'ratio': 12.77338},\n",
       "    {'period': '2018-12-01', 'ratio': 12.86931},\n",
       "    {'period': '2019-01-01', 'ratio': 13.31172},\n",
       "    {'period': '2019-02-01', 'ratio': 11.74776},\n",
       "    {'period': '2019-03-01', 'ratio': 11.82313},\n",
       "    {'period': '2019-04-01', 'ratio': 12.32991},\n",
       "    {'period': '2019-05-01', 'ratio': 12.43771},\n",
       "    {'period': '2019-06-01', 'ratio': 13.29913},\n",
       "    {'period': '2019-07-01', 'ratio': 14.00593},\n",
       "    {'period': '2019-08-01', 'ratio': 14.208},\n",
       "    {'period': '2019-09-01', 'ratio': 14.00856},\n",
       "    {'period': '2019-10-01', 'ratio': 14.88466},\n",
       "    {'period': '2019-11-01', 'ratio': 14.352},\n",
       "    {'period': '2019-12-01', 'ratio': 14.36689},\n",
       "    {'period': '2020-01-01', 'ratio': 16.05722},\n",
       "    {'period': '2020-02-01', 'ratio': 15.71465},\n",
       "    {'period': '2020-03-01', 'ratio': 18.5669},\n",
       "    {'period': '2020-04-01', 'ratio': 18.29928},\n",
       "    {'period': '2020-05-01', 'ratio': 21.0523},\n",
       "    {'period': '2020-06-01', 'ratio': 19.27569},\n",
       "    {'period': '2020-07-01', 'ratio': 20.59297},\n",
       "    {'period': '2020-08-01', 'ratio': 19.3598},\n",
       "    {'period': '2020-09-01', 'ratio': 19.96801},\n",
       "    {'period': '2020-10-01', 'ratio': 20.88909},\n",
       "    {'period': '2020-11-01', 'ratio': 19.58926},\n",
       "    {'period': '2020-12-01', 'ratio': 21.54861},\n",
       "    {'period': '2021-01-01', 'ratio': 21.93972},\n",
       "    {'period': '2021-02-01', 'ratio': 20.09926},\n",
       "    {'period': '2021-03-01', 'ratio': 21.47994},\n",
       "    {'period': '2021-04-01', 'ratio': 22.94525},\n",
       "    {'period': '2021-05-01', 'ratio': 23.00813},\n",
       "    {'period': '2021-06-01', 'ratio': 22.19201},\n",
       "    {'period': '2021-07-01', 'ratio': 22.44472},\n",
       "    {'period': '2021-08-01', 'ratio': 23.87169},\n",
       "    {'period': '2021-09-01', 'ratio': 21.40248},\n",
       "    {'period': '2021-10-01', 'ratio': 22.49636},\n",
       "    {'period': '2021-11-01', 'ratio': 21.3438},\n",
       "    {'period': '2021-12-01', 'ratio': 21.55931},\n",
       "    {'period': '2022-01-01', 'ratio': 21.94339},\n",
       "    {'period': '2022-02-01', 'ratio': 22.43099},\n",
       "    {'period': '2022-03-01', 'ratio': 23.78266},\n",
       "    {'period': '2022-04-01', 'ratio': 23.83847},\n",
       "    {'period': '2022-05-01', 'ratio': 22.99363},\n",
       "    {'period': '2022-06-01', 'ratio': 23.2411},\n",
       "    {'period': '2022-07-01', 'ratio': 24.06197},\n",
       "    {'period': '2022-08-01', 'ratio': 25.72802},\n",
       "    {'period': '2022-09-01', 'ratio': 24.25256},\n",
       "    {'period': '2022-10-01', 'ratio': 27.11456},\n",
       "    {'period': '2022-11-01', 'ratio': 25.4193},\n",
       "    {'period': '2022-12-01', 'ratio': 25.55513},\n",
       "    {'period': '2023-01-01', 'ratio': 26.64944},\n",
       "    {'period': '2023-02-01', 'ratio': 13.56007}]},\n",
       "  {'title': '페이스북',\n",
       "   'keywords': ['페이스북', '페북'],\n",
       "   'data': [{'period': '2018-01-01', 'ratio': 97.80481},\n",
       "    {'period': '2018-02-01', 'ratio': 89.05814},\n",
       "    {'period': '2018-03-01', 'ratio': 98.84292},\n",
       "    {'period': '2018-04-01', 'ratio': 100},\n",
       "    {'period': '2018-05-01', 'ratio': 92.23588},\n",
       "    {'period': '2018-06-01', 'ratio': 91.70143},\n",
       "    {'period': '2018-07-01', 'ratio': 87.916},\n",
       "    {'period': '2018-08-01', 'ratio': 83.56488},\n",
       "    {'period': '2018-09-01', 'ratio': 82.66018},\n",
       "    {'period': '2018-10-01', 'ratio': 81.30381},\n",
       "    {'period': '2018-11-01', 'ratio': 76.80167},\n",
       "    {'period': '2018-12-01', 'ratio': 75.43269},\n",
       "    {'period': '2019-01-01', 'ratio': 70.21709},\n",
       "    {'period': '2019-02-01', 'ratio': 62.57096},\n",
       "    {'period': '2019-03-01', 'ratio': 70.02431},\n",
       "    {'period': '2019-04-01', 'ratio': 71.67271},\n",
       "    {'period': '2019-05-01', 'ratio': 67.79872},\n",
       "    {'period': '2019-06-01', 'ratio': 69.23259},\n",
       "    {'period': '2019-07-01', 'ratio': 64.22088},\n",
       "    {'period': '2019-08-01', 'ratio': 61.74662},\n",
       "    {'period': '2019-09-01', 'ratio': 62.30318},\n",
       "    {'period': '2019-10-01', 'ratio': 62.46025},\n",
       "    {'period': '2019-11-01', 'ratio': 59.88514},\n",
       "    {'period': '2019-12-01', 'ratio': 57.80639},\n",
       "    {'period': '2020-01-01', 'ratio': 55.94828},\n",
       "    {'period': '2020-02-01', 'ratio': 56.90092},\n",
       "    {'period': '2020-03-01', 'ratio': 63.03497},\n",
       "    {'period': '2020-04-01', 'ratio': 57.31923},\n",
       "    {'period': '2020-05-01', 'ratio': 56.65968},\n",
       "    {'period': '2020-06-01', 'ratio': 54.42362},\n",
       "    {'period': '2020-07-01', 'ratio': 56.80884},\n",
       "    {'period': '2020-08-01', 'ratio': 54.60338},\n",
       "    {'period': '2020-09-01', 'ratio': 51.64203},\n",
       "    {'period': '2020-10-01', 'ratio': 48.64782},\n",
       "    {'period': '2020-11-01', 'ratio': 46.34281},\n",
       "    {'period': '2020-12-01', 'ratio': 47.16999},\n",
       "    {'period': '2021-01-01', 'ratio': 43.23795},\n",
       "    {'period': '2021-02-01', 'ratio': 37.94335},\n",
       "    {'period': '2021-03-01', 'ratio': 42.96809},\n",
       "    {'period': '2021-04-01', 'ratio': 42.4486},\n",
       "    {'period': '2021-05-01', 'ratio': 39.64216},\n",
       "    {'period': '2021-06-01', 'ratio': 38.09701},\n",
       "    {'period': '2021-07-01', 'ratio': 36.44556},\n",
       "    {'period': '2021-08-01', 'ratio': 34.16464},\n",
       "    {'period': '2021-09-01', 'ratio': 31.2108},\n",
       "    {'period': '2021-10-01', 'ratio': 32.85607},\n",
       "    {'period': '2021-11-01', 'ratio': 28.60438},\n",
       "    {'period': '2021-12-01', 'ratio': 27.23295},\n",
       "    {'period': '2022-01-01', 'ratio': 25.93933},\n",
       "    {'period': '2022-02-01', 'ratio': 23.6213},\n",
       "    {'period': '2022-03-01', 'ratio': 24.75851},\n",
       "    {'period': '2022-04-01', 'ratio': 22.22382},\n",
       "    {'period': '2022-05-01', 'ratio': 21.65302},\n",
       "    {'period': '2022-06-01', 'ratio': 20.04381},\n",
       "    {'period': '2022-07-01', 'ratio': 19.53712},\n",
       "    {'period': '2022-08-01', 'ratio': 18.46511},\n",
       "    {'period': '2022-09-01', 'ratio': 17.02193},\n",
       "    {'period': '2022-10-01', 'ratio': 16.73444},\n",
       "    {'period': '2022-11-01', 'ratio': 15.12064},\n",
       "    {'period': '2022-12-01', 'ratio': 14.72503},\n",
       "    {'period': '2023-01-01', 'ratio': 14.87866},\n",
       "    {'period': '2023-02-01', 'ratio': 7.00545}]},\n",
       "  {'title': '인스타그램',\n",
       "   'keywords': ['인스타그램', '인스타'],\n",
       "   'data': [{'period': '2018-01-01', 'ratio': 23.41982},\n",
       "    {'period': '2018-02-01', 'ratio': 22.53544},\n",
       "    {'period': '2018-03-01', 'ratio': 25.3988},\n",
       "    {'period': '2018-04-01', 'ratio': 26.55983},\n",
       "    {'period': '2018-05-01', 'ratio': 28.60035},\n",
       "    {'period': '2018-06-01', 'ratio': 28.40753},\n",
       "    {'period': '2018-07-01', 'ratio': 27.84405},\n",
       "    {'period': '2018-08-01', 'ratio': 29.84383},\n",
       "    {'period': '2018-09-01', 'ratio': 25.05096},\n",
       "    {'period': '2018-10-01', 'ratio': 27.2048},\n",
       "    {'period': '2018-11-01', 'ratio': 21.97864},\n",
       "    {'period': '2018-12-01', 'ratio': 20.8739},\n",
       "    {'period': '2019-01-01', 'ratio': 22.51379},\n",
       "    {'period': '2019-02-01', 'ratio': 19.33788},\n",
       "    {'period': '2019-03-01', 'ratio': 21.67678},\n",
       "    {'period': '2019-04-01', 'ratio': 21.16257},\n",
       "    {'period': '2019-05-01', 'ratio': 20.9485},\n",
       "    {'period': '2019-06-01', 'ratio': 21.76954},\n",
       "    {'period': '2019-07-01', 'ratio': 22.586},\n",
       "    {'period': '2019-08-01', 'ratio': 21.43535},\n",
       "    {'period': '2019-09-01', 'ratio': 19.83802},\n",
       "    {'period': '2019-10-01', 'ratio': 22.24957},\n",
       "    {'period': '2019-11-01', 'ratio': 21.55812},\n",
       "    {'period': '2019-12-01', 'ratio': 21.52333},\n",
       "    {'period': '2020-01-01', 'ratio': 22.0381},\n",
       "    {'period': '2020-02-01', 'ratio': 21.53446},\n",
       "    {'period': '2020-03-01', 'ratio': 25.01454},\n",
       "    {'period': '2020-04-01', 'ratio': 24.12708},\n",
       "    {'period': '2020-05-01', 'ratio': 25.68412},\n",
       "    {'period': '2020-06-01', 'ratio': 25.47291},\n",
       "    {'period': '2020-07-01', 'ratio': 27.08637},\n",
       "    {'period': '2020-08-01', 'ratio': 26.73002},\n",
       "    {'period': '2020-09-01', 'ratio': 26.0109},\n",
       "    {'period': '2020-10-01', 'ratio': 26.21388},\n",
       "    {'period': '2020-11-01', 'ratio': 25.81836},\n",
       "    {'period': '2020-12-01', 'ratio': 25.74078},\n",
       "    {'period': '2021-01-01', 'ratio': 25.5243},\n",
       "    {'period': '2021-02-01', 'ratio': 22.79679},\n",
       "    {'period': '2021-03-01', 'ratio': 28.04835},\n",
       "    {'period': '2021-04-01', 'ratio': 27.90414},\n",
       "    {'period': '2021-05-01', 'ratio': 26.56014},\n",
       "    {'period': '2021-06-01', 'ratio': 26.31208},\n",
       "    {'period': '2021-07-01', 'ratio': 25.15776},\n",
       "    {'period': '2021-08-01', 'ratio': 25.07517},\n",
       "    {'period': '2021-09-01', 'ratio': 24.95299},\n",
       "    {'period': '2021-10-01', 'ratio': 28.76584},\n",
       "    {'period': '2021-11-01', 'ratio': 23.30904},\n",
       "    {'period': '2021-12-01', 'ratio': 22.87539},\n",
       "    {'period': '2022-01-01', 'ratio': 22.0805},\n",
       "    {'period': '2022-02-01', 'ratio': 20.23895},\n",
       "    {'period': '2022-03-01', 'ratio': 22.4226},\n",
       "    {'period': '2022-04-01', 'ratio': 22.07676},\n",
       "    {'period': '2022-05-01', 'ratio': 22.23291},\n",
       "    {'period': '2022-06-01', 'ratio': 21.63141},\n",
       "    {'period': '2022-07-01', 'ratio': 21.40551},\n",
       "    {'period': '2022-08-01', 'ratio': 21.78211},\n",
       "    {'period': '2022-09-01', 'ratio': 21.07918},\n",
       "    {'period': '2022-10-01', 'ratio': 23.38901},\n",
       "    {'period': '2022-11-01', 'ratio': 21.51581},\n",
       "    {'period': '2022-12-01', 'ratio': 20.33907},\n",
       "    {'period': '2023-01-01', 'ratio': 20.30135},\n",
       "    {'period': '2023-02-01', 'ratio': 10.55313}]}]}"
      ]
     },
     "execution_count": 64,
     "metadata": {},
     "output_type": "execute_result"
    }
   ],
   "source": [
    "response.json() #리스트 타입으로 변경"
   ]
  },
  {
   "cell_type": "code",
   "execution_count": 79,
   "metadata": {},
   "outputs": [
    {
     "data": {
      "text/plain": [
       "list"
      ]
     },
     "execution_count": 79,
     "metadata": {},
     "output_type": "execute_result"
    }
   ],
   "source": [
    "results = response.json()['results']\n",
    "type(results)"
   ]
  },
  {
   "cell_type": "code",
   "execution_count": 81,
   "metadata": {},
   "outputs": [],
   "source": [
    "# columns : period, ratio, title\n",
    "dfs = []\n",
    "for result in results:\n",
    "    df = pd.DataFrame(result['data'])\n",
    "    df['title'] = result['title']\n",
    "    dfs.append(df)\n"
   ]
  },
  {
   "cell_type": "code",
   "execution_count": 87,
   "metadata": {},
   "outputs": [
    {
     "data": {
      "text/html": [
       "<div>\n",
       "<style scoped>\n",
       "    .dataframe tbody tr th:only-of-type {\n",
       "        vertical-align: middle;\n",
       "    }\n",
       "\n",
       "    .dataframe tbody tr th {\n",
       "        vertical-align: top;\n",
       "    }\n",
       "\n",
       "    .dataframe thead th {\n",
       "        text-align: right;\n",
       "    }\n",
       "</style>\n",
       "<table border=\"1\" class=\"dataframe\">\n",
       "  <thead>\n",
       "    <tr style=\"text-align: right;\">\n",
       "      <th></th>\n",
       "      <th>period</th>\n",
       "      <th>ratio</th>\n",
       "      <th>title</th>\n",
       "    </tr>\n",
       "  </thead>\n",
       "  <tbody>\n",
       "    <tr>\n",
       "      <th>0</th>\n",
       "      <td>2018-01-01</td>\n",
       "      <td>14.59502</td>\n",
       "      <td>트위터</td>\n",
       "    </tr>\n",
       "    <tr>\n",
       "      <th>1</th>\n",
       "      <td>2018-02-01</td>\n",
       "      <td>13.02380</td>\n",
       "      <td>트위터</td>\n",
       "    </tr>\n",
       "    <tr>\n",
       "      <th>2</th>\n",
       "      <td>2018-03-01</td>\n",
       "      <td>12.97953</td>\n",
       "      <td>트위터</td>\n",
       "    </tr>\n",
       "    <tr>\n",
       "      <th>3</th>\n",
       "      <td>2018-04-01</td>\n",
       "      <td>12.82991</td>\n",
       "      <td>트위터</td>\n",
       "    </tr>\n",
       "    <tr>\n",
       "      <th>4</th>\n",
       "      <td>2018-05-01</td>\n",
       "      <td>13.05391</td>\n",
       "      <td>트위터</td>\n",
       "    </tr>\n",
       "    <tr>\n",
       "      <th>...</th>\n",
       "      <td>...</td>\n",
       "      <td>...</td>\n",
       "      <td>...</td>\n",
       "    </tr>\n",
       "    <tr>\n",
       "      <th>57</th>\n",
       "      <td>2022-10-01</td>\n",
       "      <td>27.11456</td>\n",
       "      <td>트위터</td>\n",
       "    </tr>\n",
       "    <tr>\n",
       "      <th>58</th>\n",
       "      <td>2022-11-01</td>\n",
       "      <td>25.41930</td>\n",
       "      <td>트위터</td>\n",
       "    </tr>\n",
       "    <tr>\n",
       "      <th>59</th>\n",
       "      <td>2022-12-01</td>\n",
       "      <td>25.55513</td>\n",
       "      <td>트위터</td>\n",
       "    </tr>\n",
       "    <tr>\n",
       "      <th>60</th>\n",
       "      <td>2023-01-01</td>\n",
       "      <td>26.64944</td>\n",
       "      <td>트위터</td>\n",
       "    </tr>\n",
       "    <tr>\n",
       "      <th>61</th>\n",
       "      <td>2023-02-01</td>\n",
       "      <td>13.56007</td>\n",
       "      <td>트위터</td>\n",
       "    </tr>\n",
       "  </tbody>\n",
       "</table>\n",
       "<p>62 rows × 3 columns</p>\n",
       "</div>"
      ],
      "text/plain": [
       "        period     ratio title\n",
       "0   2018-01-01  14.59502   트위터\n",
       "1   2018-02-01  13.02380   트위터\n",
       "2   2018-03-01  12.97953   트위터\n",
       "3   2018-04-01  12.82991   트위터\n",
       "4   2018-05-01  13.05391   트위터\n",
       "..         ...       ...   ...\n",
       "57  2022-10-01  27.11456   트위터\n",
       "58  2022-11-01  25.41930   트위터\n",
       "59  2022-12-01  25.55513   트위터\n",
       "60  2023-01-01  26.64944   트위터\n",
       "61  2023-02-01  13.56007   트위터\n",
       "\n",
       "[62 rows x 3 columns]"
      ]
     },
     "execution_count": 87,
     "metadata": {},
     "output_type": "execute_result"
    }
   ],
   "source": [
    "dfs[0]"
   ]
  },
  {
   "cell_type": "code",
   "execution_count": 86,
   "metadata": {},
   "outputs": [
    {
     "data": {
      "text/html": [
       "<div>\n",
       "<style scoped>\n",
       "    .dataframe tbody tr th:only-of-type {\n",
       "        vertical-align: middle;\n",
       "    }\n",
       "\n",
       "    .dataframe tbody tr th {\n",
       "        vertical-align: top;\n",
       "    }\n",
       "\n",
       "    .dataframe thead th {\n",
       "        text-align: right;\n",
       "    }\n",
       "</style>\n",
       "<table border=\"1\" class=\"dataframe\">\n",
       "  <thead>\n",
       "    <tr style=\"text-align: right;\">\n",
       "      <th></th>\n",
       "      <th>period</th>\n",
       "      <th>ratio</th>\n",
       "      <th>title</th>\n",
       "    </tr>\n",
       "  </thead>\n",
       "  <tbody>\n",
       "    <tr>\n",
       "      <th>184</th>\n",
       "      <td>2023-01-01</td>\n",
       "      <td>20.30135</td>\n",
       "      <td>인스타그램</td>\n",
       "    </tr>\n",
       "    <tr>\n",
       "      <th>185</th>\n",
       "      <td>2023-02-01</td>\n",
       "      <td>10.55313</td>\n",
       "      <td>인스타그램</td>\n",
       "    </tr>\n",
       "  </tbody>\n",
       "</table>\n",
       "</div>"
      ],
      "text/plain": [
       "         period     ratio  title\n",
       "184  2023-01-01  20.30135  인스타그램\n",
       "185  2023-02-01  10.55313  인스타그램"
      ]
     },
     "execution_count": 86,
     "metadata": {},
     "output_type": "execute_result"
    }
   ],
   "source": [
    "#데이터 프레임 3개 결합하기\n",
    "result_df = pd.concat(dfs, ignore_index=True)\n",
    "result_df.tail(2)"
   ]
  },
  {
   "cell_type": "code",
   "execution_count": 88,
   "metadata": {},
   "outputs": [],
   "source": [
    "# 시각화: 꺾은선 그래프로 만들어주기\n",
    "# column: title(twitter, facebook, instagram)\n",
    "# index: period\n",
    "# value: ratio"
   ]
  },
  {
   "cell_type": "code",
   "execution_count": 92,
   "metadata": {},
   "outputs": [
    {
     "data": {
      "text/html": [
       "<div>\n",
       "<style scoped>\n",
       "    .dataframe tbody tr th:only-of-type {\n",
       "        vertical-align: middle;\n",
       "    }\n",
       "\n",
       "    .dataframe tbody tr th {\n",
       "        vertical-align: top;\n",
       "    }\n",
       "\n",
       "    .dataframe thead th {\n",
       "        text-align: right;\n",
       "    }\n",
       "</style>\n",
       "<table border=\"1\" class=\"dataframe\">\n",
       "  <thead>\n",
       "    <tr style=\"text-align: right;\">\n",
       "      <th>title</th>\n",
       "      <th>인스타그램</th>\n",
       "      <th>트위터</th>\n",
       "      <th>페이스북</th>\n",
       "    </tr>\n",
       "    <tr>\n",
       "      <th>period</th>\n",
       "      <th></th>\n",
       "      <th></th>\n",
       "      <th></th>\n",
       "    </tr>\n",
       "  </thead>\n",
       "  <tbody>\n",
       "    <tr>\n",
       "      <th>2018-01-01</th>\n",
       "      <td>23.41982</td>\n",
       "      <td>14.59502</td>\n",
       "      <td>97.80481</td>\n",
       "    </tr>\n",
       "    <tr>\n",
       "      <th>2018-02-01</th>\n",
       "      <td>22.53544</td>\n",
       "      <td>13.02380</td>\n",
       "      <td>89.05814</td>\n",
       "    </tr>\n",
       "    <tr>\n",
       "      <th>2018-03-01</th>\n",
       "      <td>25.39880</td>\n",
       "      <td>12.97953</td>\n",
       "      <td>98.84292</td>\n",
       "    </tr>\n",
       "    <tr>\n",
       "      <th>2018-04-01</th>\n",
       "      <td>26.55983</td>\n",
       "      <td>12.82991</td>\n",
       "      <td>100.00000</td>\n",
       "    </tr>\n",
       "    <tr>\n",
       "      <th>2018-05-01</th>\n",
       "      <td>28.60035</td>\n",
       "      <td>13.05391</td>\n",
       "      <td>92.23588</td>\n",
       "    </tr>\n",
       "    <tr>\n",
       "      <th>...</th>\n",
       "      <td>...</td>\n",
       "      <td>...</td>\n",
       "      <td>...</td>\n",
       "    </tr>\n",
       "    <tr>\n",
       "      <th>2022-10-01</th>\n",
       "      <td>23.38901</td>\n",
       "      <td>27.11456</td>\n",
       "      <td>16.73444</td>\n",
       "    </tr>\n",
       "    <tr>\n",
       "      <th>2022-11-01</th>\n",
       "      <td>21.51581</td>\n",
       "      <td>25.41930</td>\n",
       "      <td>15.12064</td>\n",
       "    </tr>\n",
       "    <tr>\n",
       "      <th>2022-12-01</th>\n",
       "      <td>20.33907</td>\n",
       "      <td>25.55513</td>\n",
       "      <td>14.72503</td>\n",
       "    </tr>\n",
       "    <tr>\n",
       "      <th>2023-01-01</th>\n",
       "      <td>20.30135</td>\n",
       "      <td>26.64944</td>\n",
       "      <td>14.87866</td>\n",
       "    </tr>\n",
       "    <tr>\n",
       "      <th>2023-02-01</th>\n",
       "      <td>10.55313</td>\n",
       "      <td>13.56007</td>\n",
       "      <td>7.00545</td>\n",
       "    </tr>\n",
       "  </tbody>\n",
       "</table>\n",
       "<p>62 rows × 3 columns</p>\n",
       "</div>"
      ],
      "text/plain": [
       "title          인스타그램       트위터       페이스북\n",
       "period                                   \n",
       "2018-01-01  23.41982  14.59502   97.80481\n",
       "2018-02-01  22.53544  13.02380   89.05814\n",
       "2018-03-01  25.39880  12.97953   98.84292\n",
       "2018-04-01  26.55983  12.82991  100.00000\n",
       "2018-05-01  28.60035  13.05391   92.23588\n",
       "...              ...       ...        ...\n",
       "2022-10-01  23.38901  27.11456   16.73444\n",
       "2022-11-01  21.51581  25.41930   15.12064\n",
       "2022-12-01  20.33907  25.55513   14.72503\n",
       "2023-01-01  20.30135  26.64944   14.87866\n",
       "2023-02-01  10.55313  13.56007    7.00545\n",
       "\n",
       "[62 rows x 3 columns]"
      ]
     },
     "execution_count": 92,
     "metadata": {},
     "output_type": "execute_result"
    }
   ],
   "source": [
    "pivot_df = result_df.pivot('period', 'title', 'ratio')\n",
    "pivot_df "
   ]
  },
  {
   "cell_type": "code",
   "execution_count": 94,
   "metadata": {},
   "outputs": [],
   "source": [
    "# update: 데이터선택 = 수정할 데이터\n",
    "pivot_df.columns = ['instagram', 'twitter', 'facebook']"
   ]
  },
  {
   "cell_type": "code",
   "execution_count": 95,
   "metadata": {},
   "outputs": [
    {
     "data": {
      "text/html": [
       "<div>\n",
       "<style scoped>\n",
       "    .dataframe tbody tr th:only-of-type {\n",
       "        vertical-align: middle;\n",
       "    }\n",
       "\n",
       "    .dataframe tbody tr th {\n",
       "        vertical-align: top;\n",
       "    }\n",
       "\n",
       "    .dataframe thead th {\n",
       "        text-align: right;\n",
       "    }\n",
       "</style>\n",
       "<table border=\"1\" class=\"dataframe\">\n",
       "  <thead>\n",
       "    <tr style=\"text-align: right;\">\n",
       "      <th></th>\n",
       "      <th>instagram</th>\n",
       "      <th>twitter</th>\n",
       "      <th>facebook</th>\n",
       "    </tr>\n",
       "    <tr>\n",
       "      <th>period</th>\n",
       "      <th></th>\n",
       "      <th></th>\n",
       "      <th></th>\n",
       "    </tr>\n",
       "  </thead>\n",
       "  <tbody>\n",
       "    <tr>\n",
       "      <th>2018-01-01</th>\n",
       "      <td>23.41982</td>\n",
       "      <td>14.59502</td>\n",
       "      <td>97.80481</td>\n",
       "    </tr>\n",
       "    <tr>\n",
       "      <th>2018-02-01</th>\n",
       "      <td>22.53544</td>\n",
       "      <td>13.02380</td>\n",
       "      <td>89.05814</td>\n",
       "    </tr>\n",
       "    <tr>\n",
       "      <th>2018-03-01</th>\n",
       "      <td>25.39880</td>\n",
       "      <td>12.97953</td>\n",
       "      <td>98.84292</td>\n",
       "    </tr>\n",
       "    <tr>\n",
       "      <th>2018-04-01</th>\n",
       "      <td>26.55983</td>\n",
       "      <td>12.82991</td>\n",
       "      <td>100.00000</td>\n",
       "    </tr>\n",
       "    <tr>\n",
       "      <th>2018-05-01</th>\n",
       "      <td>28.60035</td>\n",
       "      <td>13.05391</td>\n",
       "      <td>92.23588</td>\n",
       "    </tr>\n",
       "    <tr>\n",
       "      <th>...</th>\n",
       "      <td>...</td>\n",
       "      <td>...</td>\n",
       "      <td>...</td>\n",
       "    </tr>\n",
       "    <tr>\n",
       "      <th>2022-10-01</th>\n",
       "      <td>23.38901</td>\n",
       "      <td>27.11456</td>\n",
       "      <td>16.73444</td>\n",
       "    </tr>\n",
       "    <tr>\n",
       "      <th>2022-11-01</th>\n",
       "      <td>21.51581</td>\n",
       "      <td>25.41930</td>\n",
       "      <td>15.12064</td>\n",
       "    </tr>\n",
       "    <tr>\n",
       "      <th>2022-12-01</th>\n",
       "      <td>20.33907</td>\n",
       "      <td>25.55513</td>\n",
       "      <td>14.72503</td>\n",
       "    </tr>\n",
       "    <tr>\n",
       "      <th>2023-01-01</th>\n",
       "      <td>20.30135</td>\n",
       "      <td>26.64944</td>\n",
       "      <td>14.87866</td>\n",
       "    </tr>\n",
       "    <tr>\n",
       "      <th>2023-02-01</th>\n",
       "      <td>10.55313</td>\n",
       "      <td>13.56007</td>\n",
       "      <td>7.00545</td>\n",
       "    </tr>\n",
       "  </tbody>\n",
       "</table>\n",
       "<p>62 rows × 3 columns</p>\n",
       "</div>"
      ],
      "text/plain": [
       "            instagram   twitter   facebook\n",
       "period                                    \n",
       "2018-01-01   23.41982  14.59502   97.80481\n",
       "2018-02-01   22.53544  13.02380   89.05814\n",
       "2018-03-01   25.39880  12.97953   98.84292\n",
       "2018-04-01   26.55983  12.82991  100.00000\n",
       "2018-05-01   28.60035  13.05391   92.23588\n",
       "...               ...       ...        ...\n",
       "2022-10-01   23.38901  27.11456   16.73444\n",
       "2022-11-01   21.51581  25.41930   15.12064\n",
       "2022-12-01   20.33907  25.55513   14.72503\n",
       "2023-01-01   20.30135  26.64944   14.87866\n",
       "2023-02-01   10.55313  13.56007    7.00545\n",
       "\n",
       "[62 rows x 3 columns]"
      ]
     },
     "execution_count": 95,
     "metadata": {},
     "output_type": "execute_result"
    }
   ],
   "source": [
    "pivot_df"
   ]
  },
  {
   "cell_type": "code",
   "execution_count": 97,
   "metadata": {},
   "outputs": [],
   "source": [
    "import matplotlib.pyplot as plt"
   ]
  },
  {
   "cell_type": "code",
   "execution_count": 99,
   "metadata": {},
   "outputs": [
    {
     "data": {
      "image/png": "[encoded data removed]",
      "text/plain": [
       "<Figure size 640x480 with 1 Axes>"
      ]
     },
     "metadata": {},
     "output_type": "display_data"
    }
   ],
   "source": [
    "pivot_df.plot()\n",
    "plt.show()"
   ]
  },
  {
   "cell_type": "code",
   "execution_count": 104,
   "metadata": {},
   "outputs": [
    {
     "name": "stderr",
     "output_type": "stream",
     "text": [
      "ERROR:root:The 'figure_format' trait of an InlineBackend instance expected a unicode string, not the tuple ('png', 'retina').\n"
     ]
    }
   ],
   "source": [
    "#그래프 선명하게 만들기\n",
    "%config InlineBackend.figure_format = {'png', 'retina'}"
   ]
  },
  {
   "cell_type": "code",
   "execution_count": 105,
   "metadata": {},
   "outputs": [
    {
     "data": {
      "image/png": "[encoded data removed]",
      "text/plain": [
       "<Figure size 640x480 with 1 Axes>"
      ]
     },
     "metadata": {},
     "output_type": "display_data"
    }
   ],
   "source": [
    "pivot_df.plot()\n",
    "plt.show()"
   ]
  },
  {
   "cell_type": "code",
   "execution_count": 103,
   "metadata": {},
   "outputs": [
    {
     "data": {
      "image/png": "[encoded data removed]",
      "text/plain": [
       "<Figure size 2000x500 with 1 Axes>"
      ]
     },
     "metadata": {},
     "output_type": "display_data"
    }
   ],
   "source": [
    "pivot_df.plot(figsize=(20, 5))\n",
    "plt.show()"
   ]
  },
  {
   "cell_type": "code",
   "execution_count": null,
   "metadata": {},
   "outputs": [],
   "source": [
    "'''\n",
    "api 사용해서 데이터를 사용하는 방법\n",
    "api 키 값을 먼저 받는다\n",
    "document를 보고 url 찾는다, api 아닌 동적 페이지 수집은 key값 필요없이 네트워크 트레픽 확인\n",
    "api는 도큐먼트에서 찾는다는게 차이점\n",
    "\n",
    "동적 페이지 수집과 api 수집은 거의 유사하다.\n",
    "'''"
   ]
  },
  {
   "cell_type": "code",
   "execution_count": null,
   "metadata": {},
   "outputs": [],
   "source": []
  }
 ],
 "metadata": {
  "colab": {
   "name": "03_naver_api.ipynb",
   "provenance": []
  },
  "kernelspec": {
   "display_name": "Python 3",
   "language": "python",
   "name": "python3"
  },
  "language_info": {
   "codemirror_mode": {
    "name": "ipython",
    "version": 3
   },
   "file_extension": ".py",
   "mimetype": "text/x-python",
   "name": "python",
   "nbconvert_exporter": "python",
   "pygments_lexer": "ipython3",
   "version": "3.10.9"
  },
  "toc": {
   "base_numbering": 1,
   "nav_menu": {},
   "number_sections": false,
   "sideBar": true,
   "skip_h1_title": false,
   "title_cell": "Table of Contents",
   "title_sidebar": "Contents",
   "toc_cell": false,
   "toc_position": {},
   "toc_section_display": true,
   "toc_window_display": false
  },
  "vscode": {
   "interpreter": {
    "hash": "afb734500600fd355917ca529030176ea0ca205570884b88f2f6f7d791fd3fbe"
   }
  }
 },
 "nbformat": 4,
 "nbformat_minor": 1
}
